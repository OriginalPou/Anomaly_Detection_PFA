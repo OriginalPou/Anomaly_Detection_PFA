{
  "nbformat": 4,
  "nbformat_minor": 0,
  "metadata": {
    "colab": {
      "name": "Windowlengths",
      "provenance": [],
      "collapsed_sections": []
    },
    "kernelspec": {
      "name": "python3",
      "display_name": "Python 3"
    },
    "language_info": {
      "name": "python"
    }
  },
  "cells": [
    {
      "cell_type": "code",
      "metadata": {
        "id": "TJEh0SZe9nMY"
      },
      "source": [
        "import numpy as np\n",
        "import pandas as pd\n",
        "import datetime\n",
        "import matplotlib\n",
        "from matplotlib import pyplot as plt\n",
        "import gc\n",
        "import multiprocessing as mp\n",
        "import random\n",
        "from multiprocessing import Process, Queue\n",
        "queue = Queue()\n",
        "import csv"
      ],
      "execution_count": null,
      "outputs": []
    },
    {
      "cell_type": "code",
      "metadata": {
        "id": "-C8_gyaY-dXS"
      },
      "source": [
        "def csv_to_activations(file_title):\n",
        "    df=pd.read_table(file_title, sep=\",\" )\n",
        "    df = df[['Start', 'End','Label']]\n",
        "    activation = [tuple(x[0:2]) for x in df.to_numpy()]\n",
        "    activation_type = [x[2] for x in df.to_numpy()]\n",
        "    return(activation,activation_type)"
      ],
      "execution_count": null,
      "outputs": []
    },
    {
      "cell_type": "code",
      "metadata": {
        "id": "YcewDWTf-kD_"
      },
      "source": [
        "Redd_activation_label={}\n",
        "Redd_activations={}\n",
        "for house_nb in [1,2,3,5,6]:\n",
        "    Redd_activations[house_nb]=csv_to_activations(\"drive/MyDrive/redd_consumption_duration_nature_house_\"+str(house_nb)+\".csv\")[0]\n",
        "    Redd_activation_label[house_nb]=csv_to_activations(\"drive/MyDrive/redd_consumption_duration_nature_house_\"+str(house_nb)+\".csv\")[1]"
      ],
      "execution_count": null,
      "outputs": []
    },
    {
      "cell_type": "code",
      "metadata": {
        "colab": {
          "base_uri": "https://localhost:8080/"
        },
        "id": "EfWR3yx9DWPB",
        "outputId": "c6f5d48e-cb44-418b-f50c-db3c25376e3b"
      },
      "source": [
        "print(Redd_activation_label)"
      ],
      "execution_count": null,
      "outputs": [
        {
          "output_type": "stream",
          "text": [
            "{1: [1, 0, 0, 0, 0, 0, 0, 1, 0, 0, 0, 0, 0, 0, 0, 0, 0, 0, 0, 0, 0, 0, 0, 0, 1, 0, 0, 0, 0, 1, 0, 0, 0, 0, 1, 0, 0, 0, 0, 0, 0, 0, 0, 0, 0, 0, 0, 0, 0, 0, 0, 0, 0, 1, 0, 0, 0, 0, 0, 1, 0, 0, 0, 0, 0, 1, 0, 0, 0, 1, 0, 1, 0, 0, 0, 0, 0, 0, 0, 0, 0, 0, 0, 0, 1, 0, 0, 0, 0, 1, 0, 0, 0, 1, 0, 0, 0, 0, 0, 0, 0, 0, 0, 0, 0, 0, 0, 0, 1, 1, 0, 0, 1, 1, 1, 0, 0, 1, 0, 0, 0, 0, 0, 0, 0, 0, 1, 0, 0, 0, 1, 1, 0, 0, 0, 1, 0, 0, 0, 1, 0, 0, 0, 0, 0, 0, 0, 0, 1, 0, 0, 0, 0, 0, 0, 0, 1, 1, 0, 1, 0, 0, 0, 0, 0, 0, 0, 0, 0, 0, 1, 0, 0, 1, 0, 0, 1, 0, 0, 0, 1, 1, 1, 0, 0, 0, 0, 1, 0, 0, 0, 0, 0, 0, 0, 0, 0, 0, 1, 0, 0, 0, 0, 0, 0, 0, 1, 1, 1, 0, 0, 0, 0, 0, 0, 0, 0, 0, 0, 0, 0, 0, 1, 0, 0, 0, 0, 0, 0, 0, 0, 0, 0, 0, 1, 1, 1, 0, 0, 0, 0, 0, 0, 0, 0, 0, 0, 0, 0, 0, 0, 0, 0, 0, 0, 1, 0, 0, 0, 0, 0, 0, 0, 1, 0, 0, 1, 0, 0, 0, 0, 0, 0, 0, 0, 0, 0, 0, 0, 0, 0, 1, 1, 0, 0, 0, 0, 0, 0, 0, 0, 0, 0, 1, 0, 0, 0, 1, 1, 0, 0, 0, 0, 0, 0, 0, 0, 0, 1, 0, 0, 0, 0, 0, 0, 1, 0, 0, 0, 0, 0, 0, 1, 1, 1, 0, 0, 0, 0, 0, 0, 0, 1, 0, 0, 0, 1, 0, 0, 0, 0, 0, 0, 0, 1, 1, 0, 0, 0, 0, 0, 0, 0, 0, 0, 0, 0, 0, 0, 0, 0, 0, 0, 0, 0, 0, 0, 0, 0, 1, 0, 0, 0, 0, 1, 0, 1, 0, 0, 0, 0, 0, 1, 0, 0, 0, 0, 0, 0, 0, 0, 0, 0, 1, 0, 1, 0, 0, 0, 0, 0, 0, 1, 0, 0, 1, 0, 0, 0, 0, 0, 0, 0, 0, 0, 0, 0, 0, 0, 0, 0, 0, 0, 1, 0, 0, 0, 1, 1, 1, 1, 0, 0, 0, 1, 0, 0, 0, 0, 0, 0, 0, 0, 0, 0, 1, 1, 0, 0, 0, 0, 0, 0, 0, 0, 1, 1, 0, 0, 0, 0, 0, 0, 0, 0, 0, 1, 0, 0, 0, 0, 0, 0, 1, 0, 0, 0, 0, 0, 0, 0, 0, 0, 0, 0, 0, 0, 0, 0, 0, 0, 0, 1, 1, 0, 0, 0, 0, 0, 1, 0, 0, 0, 1, 0, 0, 0, 1, 0, 0, 0, 1, 0, 0, 0, 0, 1, 0, 0, 0, 0, 0, 0, 0, 0, 0, 0, 0, 0, 0, 0, 0, 0, 0, 0, 0, 0, 1, 1, 0, 0, 0, 0, 0, 0, 0, 0, 0, 0, 0, 0, 0, 0, 0, 0, 0, 0, 0, 0, 0, 0, 0, 0, 0, 0, 0, 0, 0, 0, 0, 0, 0, 0, 1, 0, 0, 0, 0, 0, 0, 0, 0, 1, 0, 1, 0, 0, 0, 0, 0, 0, 0, 0, 0, 0, 0, 0, 0, 0, 0, 0, 0, 0, 0, 0, 1, 1, 1, 1, 1, 0, 0, 0, 0, 0, 1, 0, 0, 0, 0, 1, 0, 1, 0, 0, 0, 0, 1, 1, 0, 0, 0, 0, 0, 1, 0, 0, 0, 0, 0, 0, 0], 2: [0, 0, 0, 0, 0, 0, 0, 0, 0, 0, 0, 0, 0, 0, 0, 0, 0, 0, 0, 0, 0, 0, 0, 0, 0, 0, 0, 0, 0, 0, 0, 0, 0, 0, 0, 0, 1, 1, 0, 0, 0, 1, 0, 0, 0, 0, 0, 0, 0, 0, 0, 0, 0, 0, 0, 0, 0, 0, 0, 0, 0, 0, 0, 1, 0, 0, 0, 0, 0, 0, 0, 0, 0, 0, 1, 1, 0, 0, 0, 1, 0, 0, 0, 0, 0, 0, 0, 0, 0, 0, 0, 0, 0, 0, 0, 0, 0, 0, 0, 0, 0, 0, 0, 0, 0, 0, 0, 0, 0, 0, 0, 0, 0, 0, 1, 1, 0, 0, 0, 0, 0, 1, 0, 0, 0, 0, 0, 1, 0, 0, 0, 0, 0, 0, 0, 0, 0, 0, 0, 0, 0, 0, 0, 0, 0, 0, 0, 0, 0, 0, 0, 0, 0, 0, 0, 0, 1, 1, 0, 0, 0, 0, 0, 1, 0, 0, 0, 0, 0, 0, 0, 0, 0, 0, 0, 0, 0, 1, 1, 1, 0, 1, 0, 0, 1, 0, 1, 1, 1, 0, 1, 1, 0, 1, 0, 1, 0, 1, 0, 0, 1, 0, 1, 0, 0, 1, 0, 1, 0, 1, 0, 1, 0, 1, 0, 1, 1, 0, 0, 0, 0, 1, 0, 0, 0, 0, 1, 0, 0, 0, 0, 0, 0, 0, 0, 0, 0, 0, 0, 0, 0, 0, 0, 0, 0, 0, 0, 0, 0, 0, 1, 1, 1, 0, 0, 0, 0, 0, 0, 0, 0, 0, 0, 0, 1, 0, 0, 0, 0, 0, 0, 0, 0, 0, 0, 1, 0, 0, 0, 0, 0, 1, 1, 1, 0, 0, 0, 0, 0, 0, 0, 0, 0, 0, 0, 0, 0, 0, 0, 0, 1, 0, 0, 0, 0, 1, 0, 0, 0, 0, 0, 0, 0, 0, 1, 1, 0, 0, 0, 0, 0, 0, 0, 0, 1, 1, 1, 1, 1, 0, 1, 0, 1, 1, 0, 0, 0, 0, 0, 0, 0, 1, 1, 0, 0, 0, 0, 0, 0, 0, 0, 0, 0, 1, 1], 3: [0, 0, 0, 0, 0, 0, 0, 0, 1, 1, 0, 1, 0, 1, 1, 0, 0, 0, 0, 0, 0, 0, 0, 0, 1, 1, 0, 0, 0, 0, 0, 1, 0, 1, 0, 0, 0, 0, 0, 1, 0, 0, 0, 1, 0, 0, 0, 0, 0, 0, 0, 1, 1, 0, 0, 0, 0, 0, 0, 0, 0, 0, 1, 1, 1, 0, 0, 0, 0, 0, 1, 0, 0, 1, 1, 0, 0, 0, 1, 1, 0, 0, 0, 1, 0, 1, 1, 1, 0, 0, 1, 0, 0, 0, 0, 0, 0, 0, 0, 0, 0, 0, 0, 0, 0, 1, 0, 0, 0, 0, 0, 0, 0, 0, 0, 1, 0, 0, 0, 1, 0, 0, 0, 0, 0, 0, 1, 1, 0, 0, 0, 0, 0, 0, 0, 1, 0, 0, 0, 1, 0, 0, 0, 0, 1, 0, 0, 0, 0, 0, 0, 0, 0, 0, 0, 0, 0, 0, 0, 0, 0, 1, 1, 0, 0, 0, 0, 0, 0, 0, 0, 0, 0, 0, 0, 0, 0, 0, 1, 0, 0, 0, 0, 0, 0, 1, 0, 0, 0, 0, 0, 0, 1, 0, 0, 1, 1, 0, 0, 0, 0, 0, 0, 0, 0, 0, 0, 0, 0, 0, 0, 1, 0, 0, 0, 0, 0, 0, 0, 0, 0, 0, 0, 0, 1, 0, 0, 0, 0, 0, 0, 0, 0, 1, 0, 0, 0, 0, 0, 1, 1, 0, 0, 0, 0, 0, 0, 0, 0, 0, 0, 0, 0, 0, 0, 0, 0, 0, 0, 0, 0, 0, 0, 0, 0, 1, 1, 0, 0, 0, 0, 0, 0, 0, 1, 0, 0, 0, 0, 0, 1, 0, 0, 1, 0, 0, 0, 0, 1, 0, 1, 1, 1, 1, 0, 0, 0, 0, 0, 0, 0, 0, 0, 0, 1, 0, 0, 0, 0, 0, 0, 0, 1, 0, 0, 0, 0, 1, 1, 1, 0, 1, 0, 0, 0, 1, 0, 0, 0, 0, 0, 1, 0, 0, 1, 0, 0, 0, 0, 0, 0, 0, 0, 1, 0, 0, 0, 0, 0, 0, 0, 0, 0, 1, 1, 0, 0, 0, 1, 0, 0, 1, 0, 0, 0, 0, 0, 0, 0, 0, 0, 1, 0, 1, 1, 0, 0, 0, 0, 0, 0, 1, 1, 0, 0, 0, 0, 0, 0, 0, 0, 0, 1, 0, 0, 1, 0, 0, 0, 0, 0, 0, 0, 0, 0, 0, 0, 0, 0, 0, 1, 0, 0, 0, 1, 1, 0, 0, 0, 0, 0, 0, 0, 0, 1, 0, 0, 0, 0, 1, 0, 1, 0, 0, 1, 0, 1, 0, 0, 0, 0, 1, 1, 0, 0, 0, 0, 0, 0, 1, 0, 0, 0, 0, 0, 0, 0, 0, 0, 1, 1, 1, 1, 1, 1, 0, 0, 0, 0, 0, 0, 0, 0, 0, 0, 0, 0, 0, 0, 0, 0, 0, 0, 0, 0, 0, 0, 0, 0, 1, 0, 0, 0, 0, 1, 1, 0, 1, 1, 1, 0, 1, 0, 0, 0, 1, 0, 0, 0, 0, 0, 0, 0, 1, 0, 0, 0, 0, 0, 0, 0, 0, 0, 0, 1, 0, 0, 0, 0, 0, 0, 0, 0, 0, 1, 1, 0, 0, 0, 0, 0, 0, 1, 1, 0, 0, 0, 1, 1, 0, 0, 0, 0, 0, 0, 0, 0, 0, 0, 0, 1, 0, 0, 0, 0, 0, 0, 1, 0, 0, 1, 1, 1, 0, 0, 1, 0, 0, 0, 0, 0, 0, 0, 0, 0, 1, 0, 0, 0, 0, 0, 0, 1, 0, 1, 0, 0, 1, 0, 0, 0, 0, 1, 1, 0, 0, 0, 0, 0, 0, 1, 0, 0, 0, 0, 0, 0, 0, 0, 0, 0, 0, 0, 0, 1, 0, 1, 0, 0, 0, 0, 1, 1, 0, 0, 0, 0, 0, 0, 0, 0, 0, 0, 0, 1, 0, 0, 1, 0, 0, 0, 0, 1, 0, 0, 0, 0, 1, 0, 0, 0, 0, 0, 1, 1, 0, 0, 0, 0, 0, 0, 0, 0, 0, 0, 0, 0, 0, 0, 0, 0, 0, 0, 0, 0, 0, 0, 1, 0, 0, 0, 0, 1, 0, 0, 1, 1, 1, 0, 1, 1, 0, 0, 0, 0, 0, 0, 0, 0], 5: [0, 0, 0, 0, 0, 0, 0, 1, 1, 0, 0, 0, 0, 0, 0, 0, 0, 0, 0, 0, 1, 0, 0, 0, 0, 1, 0, 0, 1, 0, 0, 0, 0, 0, 0, 0, 0, 0, 0, 1, 0, 0, 0, 0, 0, 1, 0, 0, 0, 1, 1, 0, 0, 1, 0, 0, 0, 0, 0, 0, 0, 0, 0, 0, 0, 0, 0, 0, 0, 0, 0, 0, 0, 0, 0, 0, 0, 1, 1, 0, 0, 0, 0, 0, 0, 0, 1, 0], 6: [0, 1, 0, 1, 0, 0, 0, 0, 0, 1, 0, 0, 0, 0, 0, 0, 0, 1, 0, 0, 1, 1, 0, 1, 0, 0, 0, 0, 0, 0, 0, 0, 0, 0, 0, 0, 0, 0, 0, 0, 1, 1, 1, 1, 1, 1, 0, 0, 0, 0, 0, 0, 1, 0, 0, 0, 0, 0, 0, 0, 0, 0, 0, 0, 0, 0, 0, 0, 0, 0, 0, 0, 0, 0, 0, 0, 0, 0, 0, 0, 0, 0, 0, 0, 0, 0, 0, 0, 0, 0, 0, 0, 0, 1, 0, 0, 1, 0, 0, 0, 0, 0, 0, 0, 0, 0, 0, 0, 0, 0, 0, 0, 0, 0, 1, 0, 0, 1, 1, 1, 0, 0, 0, 0, 0, 0, 0, 0, 1, 0, 0, 0, 0, 0, 0, 0, 1, 0, 0, 0, 0, 0, 1, 0, 0, 1, 0, 0, 0, 0, 0, 0, 0, 0, 1, 1, 0, 0, 0, 0, 0, 1, 1, 1, 0, 0, 0, 0, 0, 0, 0, 1, 0, 0, 0, 0, 1, 0, 0, 0, 0, 0, 0, 0, 0, 0, 0, 1, 1, 0, 0, 0, 0, 0, 0, 0, 1, 0, 0, 1, 0, 0, 0, 0, 0, 0, 0, 0, 0, 1, 1, 1, 1, 0, 0, 0, 0, 0, 0, 0, 0, 0, 0, 0, 0, 0, 0, 0, 0, 0, 0, 0, 1, 1, 0, 0, 0, 0, 0, 0, 1, 0, 1, 1, 0, 0, 0, 0, 0, 0, 1, 1, 0, 0, 0, 0, 1, 1, 0, 1, 0, 0, 0, 0, 0, 0, 0, 0, 0, 0]}\n"
          ],
          "name": "stdout"
        }
      ]
    },
    {
      "cell_type": "code",
      "metadata": {
        "id": "F66QKUI2Ap-I"
      },
      "source": [
        "normal_activations={}\n",
        "abnormal_activations={}\n",
        "for house_nb in [1,2,3,5,6]:\n",
        "  normal=[]\n",
        "  abnormal=[]\n",
        "  activations=Redd_activations[house_nb]\n",
        "  labels=Redd_activation_label[house_nb]\n",
        "  for i in range(0,len(labels)):\n",
        "    if labels[i]==0:\n",
        "      normal.append(activations[i])\n",
        "    elif labels[i]==1:\n",
        "      abnormal.append(activations[i])\n",
        "  normal_activations[house_nb]=normal\n",
        "  abnormal_activations[house_nb]=abnormal"
      ],
      "execution_count": null,
      "outputs": []
    },
    {
      "cell_type": "code",
      "metadata": {
        "colab": {
          "base_uri": "https://localhost:8080/"
        },
        "id": "L_L8yd3ceh6t",
        "outputId": "a005c37e-7c56-48e7-ffd8-35f53c7e39a4"
      },
      "source": [
        "print(normal_activations[5])\n",
        "print(abnormal_activations[5])"
      ],
      "execution_count": null,
      "outputs": [
        {
          "output_type": "stream",
          "text": [
            "[(253, 362), (593, 699), (931, 1037), (1269, 1373), (1606, 1709), (1942, 2044), (2278, 2380), (3287, 3407), (3624, 3669), (3957, 4066), (4288, 4395), (4618, 4723), (4946, 5050), (5274, 5377), (5601, 5704), (5877, 6076), (6239, 6474), (6621, 6828), (7419, 7534), (7764, 7875), (8129, 8217), (8446, 8558), (9128, 9237), (9468, 9576), (10065, 10269), (10481, 10596), (10855, 10938), (11167, 11280), (11466, 11583), (11810, 11921), (12151, 12259), (15154, 15248), (15959, 16113), (299700, 299777), (300438, 300674), (300901, 301059), (301310, 301474), (301721, 301864), (302116, 302253), (302904, 303038), (303300, 303432), (303694, 303826), (304777, 305003), (305245, 305379), (312305, 312527), (312721, 312851), (313057, 313182), (313392, 313523), (313733, 313862), (314076, 314210), (314419, 314544), (314756, 314877), (315090, 315211), (315424, 315544), (315756, 315877), (316090, 316128), (316756, 316877), (370439, 370645), (370869, 371075), (371300, 371499), (371726, 371921), (372147, 372338), (372566, 372754), (372981, 373166), (373394, 373575), (373803, 373986), (374148, 374323), (375288, 375465), (375677, 375845), (376058, 376225), (376439, 376599), (376815, 376969), (377188, 377335), (377557, 377701), (378277, 378478)]\n",
            "[(2611, 2693), (2813, 3086), (7061, 7187), (8787, 8898), (9807, 9941), (299972, 300257), (302507, 302644), (304090, 304221), (304489, 304655), (312084, 312190), (374545, 374675), (374795, 375087), (377922, 378140)]\n"
          ],
          "name": "stdout"
        }
      ]
    },
    {
      "cell_type": "code",
      "metadata": {
        "colab": {
          "base_uri": "https://localhost:8080/"
        },
        "id": "m7j86koTYZyR",
        "outputId": "3160c6eb-752a-448d-90af-c55352d63d96"
      },
      "source": [
        "print(abnormal_activations)"
      ],
      "execution_count": null,
      "outputs": [
        {
          "output_type": "stream",
          "text": [
            "{1: [(332, 486), (2975, 3094), (10387, 10484), (12739, 12833), (14763, 14913), (22369, 22461), (24900, 24986), (27338, 27428), (29752, 29843), (30649, 30738), (35736, 35817), (37875, 37967), (39627, 39725), (45834, 46075), (46173, 46434), (48151, 48291), (48769, 48908), (49389, 49525), (51276, 51430), (56438, 56603), (58769, 58936), (59030, 59290), (61312, 61448), (63183, 63303), (68202, 68315), (72167, 72294), (72392, 72660), (73682, 73829), (80481, 80632), (82245, 82390), (84001, 84142), (86161, 86368), (86467, 86717), (87136, 87283), (89816, 89972), (95377, 95495), (99105, 99306), (99400, 99633), (100026, 100170), (106783, 106902), (112121, 112206), (112612, 112719), (112931, 113083), (122017, 122139), (126070, 126190), (127645, 127840), (158052, 158202), (158305, 158524), (163240, 163340), (164968, 165086), (165438, 165541), (169863, 169960), (172845, 173005), (175772, 175876), (176247, 176351), (176679, 176868), (180536, 180655), (182388, 182498), (185559, 185736), (185829, 186151), (198956, 199108), (201086, 201186), (201972, 202071), (204587, 204686), (209473, 209569), (210338, 210400), (214249, 214399), (215533, 215655), (225209, 225339), (227006, 227131), (227737, 227886), (228082, 228198), (228296, 228575), (230737, 230854), (236325, 236479), (236657, 236793), (241471, 241616), (241707, 241953), (246566, 246646), (248695, 248763), (254811, 254920), (255164, 255296), (257317, 257401), (258787, 258869), (260174, 260244), (261632, 261705), (263296, 263371), (270225, 270339), (270440, 270673), (283603, 283768), (287162, 287261), (287878, 287988), (293926, 293994), (294247, 294673), (294890, 295076), (295344, 295521), (295611, 295944), (298301, 298902), (302090, 302217), (303526, 303649), (305693, 305953), (306024, 306259), (309576, 309704)], 2: [(11273, 11395), (11546, 11905), (13016, 13296), (20882, 21002), (24302, 24423), (24572, 24943), (26121, 26242), (38144, 38283), (38436, 38806), (40604, 40723), (42476, 42598), (51802, 51979), (52131, 52475), (54299, 54416), (58764, 59069), (59242, 59568), (59719, 59928), (60464, 60674), (61575, 61747), (62296, 62486), (62666, 62969), (63113, 63677), (64209, 64439), (64621, 64794), (65319, 65489), (66017, 66196), (66693, 66941), (67636, 67851), (68382, 68588), (69478, 69640), (70173, 70314), (70860, 71003), (71545, 71689), (72254, 72416), (72988, 73170), (73307, 73787), (75259, 75391), (76900, 77028), (84792, 84947), (85103, 85215), (85357, 85853), (89614, 89971), (93444, 93602), (95404, 95646), (95786, 96212), (96386, 96555), (101955, 102133), (103650, 103794), (106546, 106741), (106887, 107349), (110171, 110738), (110888, 111231), (111374, 111650), (111822, 112056), (112231, 112429), (112980, 113192), (113736, 113926), (114121, 114296), (116822, 116986), (117126, 117506), (299521, 299713), (299858, 300162)], 3: [(1816, 1882), (1965, 2098), (2463, 2546), (5484, 5575), (5692, 5769), (11815, 11917), (12011, 12122), (13527, 13628), (13961, 14044), (15471, 15546), (16093, 16235), (17669, 17758), (17839, 17987), (20006, 20068), (20168, 20255), (20381, 20448), (21907, 21994), (22542, 22609), (22758, 22896), (23516, 23584), (23724, 23790), (24668, 24806), (25096, 25179), (25282, 25353), (25436, 25606), (32948, 33064), (36809, 36926), (39168, 39260), (40083, 40151), (41547, 41625), (41705, 41877), (43506, 43578), (44408, 44476), (45490, 45633), (49885, 50001), (50081, 50296), (54078, 54205), (55944, 56053), (57453, 57548), (58011, 58094), (58175, 58394), (61607, 61669), (64777, 64836), (67030, 67091), (68568, 68653), (68739, 68851), (74949, 75107), (75125, 75196), (79939, 80157), (81473, 81554), (82187, 82400), (83443, 83541), (83899, 83990), (84086, 84164), (84242, 84575), (84668, 85024), (87006, 87091), (88605, 88733), (89736, 89811), (89927, 89986), (90062, 90214), (90504, 90608), (91317, 91392), (92510, 92584), (93062, 93179), (95002, 95079), (97282, 97399), (97477, 97709), (98630, 98719), (99341, 99449), (101461, 101568), (101762, 101855), (101912, 102134), (103415, 103510), (103587, 103805), (105857, 106085), (106632, 106715), (274402, 274496), (275240, 275308), (275439, 275504), (277404, 277468), (278569, 278644), (279024, 279110), (279611, 279690), (280057, 280139), (281226, 281324), (281402, 281529), (283000, 283088), (307942, 308084), (308246, 308346), (308405, 308566), (308651, 308784), (308934, 309007), (309068, 309183), (314512, 314581), (315775, 315859), (315979, 316065), (316480, 316590), (316666, 316820), (316953, 317056), (317334, 317436), (317985, 318058), (319491, 319556), (321907, 322037), (324642, 324739), (324815, 324953), (325982, 326054), (326136, 326244), (326814, 326895), (326986, 327078), (329114, 329182), (330475, 330623), (331208, 331288), (331430, 331564), (331635, 331792), (332378, 332486), (335600, 335679), (337025, 337100), (337430, 337504), (338039, 338112), (339056, 339118), (339201, 339503), (340870, 340959), (343632, 343835), (344061, 344154), (345105, 345217), (345293, 345487), (347825, 347976), (348523, 348604), (349538, 349620), (350488, 350641), (351765, 351847), (351926, 352147), (356580, 356666), (357565, 357648), (358152, 358248), (358329, 358524), (358601, 358789), (359115, 359247), (359287, 359491)], 5: [(2611, 2693), (2813, 3086), (7061, 7187), (8787, 8898), (9807, 9941), (299972, 300257), (302507, 302644), (304090, 304221), (304489, 304655), (312084, 312190), (374545, 374675), (374795, 375087), (377922, 378140)], 6: [(540, 776), (1441, 1647), (19659, 20042), (23166, 23397), (24485, 24680), (24903, 25102), (28350, 29004), (36040, 36323), (36476, 36763), (36895, 37423), (37590, 37838), (38063, 38207), (38234, 38663), (41387, 41646), (59837, 60102), (61270, 61543), (69826, 70256), (71409, 71658), (71899, 72117), (72233, 72790), (76417, 76641), (79866, 80090), (82454, 82624), (83759, 83974), (87630, 88593), (88782, 89619), (92090, 92343), (92569, 92794), (92821, 93215), (96426, 96791), (152356, 152647), (157207, 157606), (157827, 158060), (161248, 161442), (169657, 169888), (174196, 174451), (174656, 175015), (175234, 175384), (175411, 176086), (184309, 184486), (184730, 184905), (187663, 187849), (188516, 188713), (188846, 189035), (192079, 192359), (192469, 192678), (194621, 194799), (195048, 195235), (195884, 196081)]}\n"
          ],
          "name": "stdout"
        }
      ]
    },
    {
      "cell_type": "code",
      "metadata": {
        "id": "_VJVznUMaYFB"
      },
      "source": [
        "redd_duration_thresholds={1:38,2:40,3:25,5:40,6:50}"
      ],
      "execution_count": null,
      "outputs": []
    },
    {
      "cell_type": "code",
      "metadata": {
        "id": "7_RUkXOHFV83"
      },
      "source": [
        "abnormal_durations=[]\n",
        "for house_nb in [1,2,3,5,6]:\n",
        "  durations=[]\n",
        "  activations=abnormal_activations[house_nb]\n",
        "  for i in range(0,len(activations)):\n",
        "    duration=round((activations[i][1]-activations[i][0])/6)\n",
        "    if duration > redd_duration_thresholds[house_nb]:\n",
        "      durations.append(duration)\n",
        "  abnormal_durations.append(durations)"
      ],
      "execution_count": null,
      "outputs": []
    },
    {
      "cell_type": "code",
      "metadata": {
        "colab": {
          "base_uri": "https://localhost:8080/",
          "height": 895
        },
        "id": "zabuwexLK4lc",
        "outputId": "6197e6f8-ae13-4e17-be91-a6ac817a0eff"
      },
      "source": [
        "fig7, ax7 = plt.subplots(figsize=(14,14))\n",
        "ax7.set_title('Redd activation abnormal durations in minutes')\n",
        "ax7.boxplot(abnormal_durations)\n",
        "#ax7.set_ylim(0,200)\n",
        "ax7.set_xticklabels(normal_activations.keys())\n",
        "plt.savefig('Redd activation durations in minutes.jpg',dpi=184)\n",
        "plt.ylabel(\"duration in minutes\")\n",
        "plt.xlabel(\"house n°\")\n",
        "plt.show()"
      ],
      "execution_count": null,
      "outputs": [
        {
          "output_type": "stream",
          "text": [
            "/usr/local/lib/python3.7/dist-packages/numpy/core/_asarray.py:83: VisibleDeprecationWarning: Creating an ndarray from ragged nested sequences (which is a list-or-tuple of lists-or-tuples-or ndarrays with different lengths or shapes) is deprecated. If you meant to do this, you must specify 'dtype=object' when creating the ndarray\n",
            "  return array(a, dtype, copy=False, order=order)\n"
          ],
          "name": "stderr"
        },
        {
          "output_type": "display_data",
          "data": {
            "image/png": "[encoded data removed]",
            "text/plain": [
              "<Figure size 1008x1008 with 1 Axes>"
            ]
          },
          "metadata": {
            "tags": [],
            "needs_background": "light"
          }
        }
      ]
    },
    {
      "cell_type": "code",
      "metadata": {
        "id": "MMj9IfT3ZFc9"
      },
      "source": [
        "redd_normal_durations=[]\n",
        "for house_nb in [1,2,3,5,6]:\n",
        "  durations=[]\n",
        "  activations=Redd_activations[house_nb]\n",
        "  for i in range(0,len(activations)):\n",
        "    duration=round((activations[i][1]-activations[i][0])/6)\n",
        "    if duration <= redd_duration_thresholds[house_nb]:\n",
        "      durations.append(duration)\n",
        "  redd_normal_durations.append(durations)"
      ],
      "execution_count": null,
      "outputs": []
    },
    {
      "cell_type": "code",
      "metadata": {
        "colab": {
          "base_uri": "https://localhost:8080/",
          "height": 895
        },
        "id": "rg61373sajhY",
        "outputId": "b484d1d6-a93c-4c41-d219-848a62c8f368"
      },
      "source": [
        "fig7, ax7 = plt.subplots(figsize=(14,14))\n",
        "ax7.set_title('Redd activation normal durations in minutes')\n",
        "ax7.boxplot(redd_normal_durations)\n",
        "#ax7.set_ylim(0,100)\n",
        "ax7.set_xticklabels(normal_activations.keys())\n",
        "plt.savefig('noemal Redd activation durations in minutes.jpg',dpi=184)\n",
        "plt.ylabel(\"duration in minutes\")\n",
        "plt.xlabel(\"house n°\")\n",
        "plt.show()"
      ],
      "execution_count": null,
      "outputs": [
        {
          "output_type": "stream",
          "text": [
            "/usr/local/lib/python3.7/dist-packages/numpy/core/_asarray.py:83: VisibleDeprecationWarning: Creating an ndarray from ragged nested sequences (which is a list-or-tuple of lists-or-tuples-or ndarrays with different lengths or shapes) is deprecated. If you meant to do this, you must specify 'dtype=object' when creating the ndarray\n",
            "  return array(a, dtype, copy=False, order=order)\n"
          ],
          "name": "stderr"
        },
        {
          "output_type": "display_data",
          "data": {
            "image/png": "[encoded data removed]",
            "text/plain": [
              "<Figure size 1008x1008 with 1 Axes>"
            ]
          },
          "metadata": {
            "tags": [],
            "needs_background": "light"
          }
        }
      ]
    },
    {
      "cell_type": "code",
      "metadata": {
        "id": "xSJN2KMTczrz"
      },
      "source": [
        "def get_oversampled_activation_indices(normal_activations_list,abnormal_activations_list):\n",
        "  normal_nb=len(normal_activations_list)\n",
        "  abnormal_nb=len(abnormal_activations_list)\n",
        "  oversampling_nb=normal_nb-abnormal_nb\n",
        "  oversampled_list=abnormal_activations_list\n",
        "  for i in range(0,oversampling_nb):\n",
        "    oversampled_list.append(random.choice(abnormal_activations_list))\n",
        "  oversampled_list.sort()\n",
        "  return (oversampled_list)"
      ],
      "execution_count": null,
      "outputs": []
    },
    {
      "cell_type": "code",
      "metadata": {
        "id": "fPCbAaxMhdh8"
      },
      "source": [
        "oversampled_abnormal_activations={}\n",
        "for house_nb in [1,2,3,5,6]:\n",
        "  oversampled_abnormal_activations[house_nb]=get_oversampled_activation_indices(normal_activations[house_nb],abnormal_activations[house_nb])"
      ],
      "execution_count": null,
      "outputs": []
    },
    {
      "cell_type": "code",
      "metadata": {
        "id": "tObFnnFAmVr-",
        "colab": {
          "base_uri": "https://localhost:8080/"
        },
        "outputId": "a1a3501a-768e-41c5-a1b0-849501a7df75"
      },
      "source": [
        "redd_oversampled_activations={}\n",
        "for house_nb in [1,2,3,5,6]:\n",
        "  activation_list=normal_activations[house_nb]\n",
        "  print(len(normal_activations[house_nb]))\n",
        "  activation_list.extend(oversampled_abnormal_activations[house_nb])\n",
        "  print(len(oversampled_abnormal_activations[house_nb]))\n",
        "  activation_list.sort()\n",
        "  print(len(activation_list))\n",
        "  redd_oversampled_activations[house_nb]=activation_list"
      ],
      "execution_count": null,
      "outputs": [
        {
          "output_type": "stream",
          "text": [
            "539\n",
            "539\n",
            "1078\n",
            "293\n",
            "293\n",
            "586\n",
            "569\n",
            "569\n",
            "1138\n",
            "75\n",
            "75\n",
            "150\n",
            "221\n",
            "221\n",
            "442\n"
          ],
          "name": "stdout"
        }
      ]
    },
    {
      "cell_type": "code",
      "metadata": {
        "id": "kpl-VpVApq_e"
      },
      "source": [
        "redd_oversampled_activations_labels={}\n",
        "for house_nb in [1,2,3,5,6]:\n",
        "  label_list=[]\n",
        "  normal=normal_activations[house_nb]\n",
        "  abnormal=abnormal_activations[house_nb]\n",
        "  for activation in redd_oversampled_activations[house_nb]:\n",
        "    if activation in abnormal :\n",
        "      label_list.append(1)\n",
        "    else:\n",
        "      label_list.append(0)\n",
        "  redd_oversampled_activations_labels[house_nb]=label_list"
      ],
      "execution_count": null,
      "outputs": []
    },
    {
      "cell_type": "code",
      "metadata": {
        "colab": {
          "base_uri": "https://localhost:8080/"
        },
        "id": "CVCIuEQ4X1Wk",
        "outputId": "0a17d1c6-d1da-408d-ce3e-ea89acffbc41"
      },
      "source": [
        "redd_oversampled_activations_labels[3].count(0)"
      ],
      "execution_count": null,
      "outputs": [
        {
          "output_type": "execute_result",
          "data": {
            "text/plain": [
              "569"
            ]
          },
          "metadata": {
            "tags": []
          },
          "execution_count": 20
        }
      ]
    },
    {
      "cell_type": "code",
      "metadata": {
        "id": "AnKSYxwGtXST"
      },
      "source": [
        "for i in [1,2,3,5,6]:\n",
        "  with open('drive/MyDrive/redd_oversampled_labeled_activations_'+str(i)+'.csv', 'w', newline='') as file:\n",
        "      writer = csv.writer(file)\n",
        "      writer.writerow([\"beginning\", \"end\", \"label\"])\n",
        "      for j in range(0,len(redd_oversampled_activations[i])):\n",
        "        writer.writerow([redd_oversampled_activations[i][j][0], redd_oversampled_activations[i][j][1], redd_oversampled_activations_labels[i][j]])"
      ],
      "execution_count": null,
      "outputs": []
    },
    {
      "cell_type": "code",
      "metadata": {
        "id": "iDtCAamDWMEl"
      },
      "source": [
        "def smaller_activations_ffilling(df,activation,windowlength):\n",
        "  difference=windowlength*6-activation[1]+activation[0]\n",
        "  new_activation=[]\n",
        "  if ((len(df.index)-activation[1])>=difference):\n",
        "    new_activation=list(df.consumption.iloc[activation[0]:activation[1]+difference])\n",
        "  else :\n",
        "    new_activation=list(df.consumption.iloc[activation[0]-difference:activation[1]])\n",
        "  return (new_activation)"
      ],
      "execution_count": null,
      "outputs": []
    },
    {
      "cell_type": "code",
      "metadata": {
        "id": "4Tg5I3AqglPi"
      },
      "source": [
        "def bigger_activations_ffilling(df,activation,windowlength):\n",
        "  new_activation=[]\n",
        "  difference=activation[1]-activation[0]-windowlength*6\n",
        "  nb_full_activations=(activation[1]-activation[0])//(windowlength*6)\n",
        "  rest=(activation[1]-activation[0])%(windowlength*6)\n",
        "  start_index=activation[0]\n",
        "  listylist=[]\n",
        "  for i in range (0,nb_full_activations):\n",
        "    listylist=list(df.consumption.iloc[start_index:(windowlength*6)+start_index])\n",
        "    new_activation.append(listylist)\n",
        "    start_index=windowlength*6+start_index\n",
        "  if rest != 0:\n",
        "    new_activation.append(smaller_activations_ffilling(df,(start_index,start_index+rest),windowlength))\n",
        "  return (new_activation)"
      ],
      "execution_count": null,
      "outputs": []
    },
    {
      "cell_type": "code",
      "metadata": {
        "id": "zRfVdRVv1ZOo",
        "colab": {
          "base_uri": "https://localhost:8080/",
          "height": 244
        },
        "outputId": "e27c450d-d891-4d02-fabd-8f77cd1bb2ff"
      },
      "source": [
        "x_dict={}\n",
        "y_dict={}\n",
        "windowlength=45\n",
        "for house_nb in [1,2,3,5,6]:\n",
        "  df=redd_dfs[house_nb]\n",
        "  house_x=[]\n",
        "  house_y=[]\n",
        "  house_activations=redd_oversampled_activations[house_nb]\n",
        "  house_labels=redd_oversampled_activations_labels[house_nb]\n",
        "  for (activation,label) in zip(house_activations,house_labels):\n",
        "    activation_duration=activation[1]-activation[0]\n",
        "    if activation_duration==windowlength*6:\n",
        "      house_x.append(list(df.consumption.iloc[activation[0]:activation[1]]))\n",
        "      house_y.append(label)\n",
        "    if activation_duration < windowlength*6:\n",
        "      house_x.append(smaller_activations_ffilling(df,activation,windowlength))\n",
        "      house_y.append(label)\n",
        "    if activation_duration > windowlength*6:\n",
        "      house_x.extend(bigger_activations_ffilling(df,activation,windowlength))\n",
        "      for i in range(0,len(bigger_activations_ffilling(df,activation,windowlength))):\n",
        "        house_y.append(label)\n",
        "  x_dict[house_nb]=house_x\n",
        "  y_dict[house_nb]=house_y\n"
      ],
      "execution_count": null,
      "outputs": [
        {
          "output_type": "error",
          "ename": "NameError",
          "evalue": "ignored",
          "traceback": [
            "\u001b[0;31m---------------------------------------------------------------------------\u001b[0m",
            "\u001b[0;31mNameError\u001b[0m                                 Traceback (most recent call last)",
            "\u001b[0;32m<ipython-input-21-80edb2a8f1e8>\u001b[0m in \u001b[0;36m<module>\u001b[0;34m()\u001b[0m\n\u001b[1;32m      3\u001b[0m \u001b[0mwindowlength\u001b[0m\u001b[0;34m=\u001b[0m\u001b[0;36m45\u001b[0m\u001b[0;34m\u001b[0m\u001b[0;34m\u001b[0m\u001b[0m\n\u001b[1;32m      4\u001b[0m \u001b[0;32mfor\u001b[0m \u001b[0mhouse_nb\u001b[0m \u001b[0;32min\u001b[0m \u001b[0;34m[\u001b[0m\u001b[0;36m1\u001b[0m\u001b[0;34m,\u001b[0m\u001b[0;36m2\u001b[0m\u001b[0;34m,\u001b[0m\u001b[0;36m3\u001b[0m\u001b[0;34m,\u001b[0m\u001b[0;36m5\u001b[0m\u001b[0;34m,\u001b[0m\u001b[0;36m6\u001b[0m\u001b[0;34m]\u001b[0m\u001b[0;34m:\u001b[0m\u001b[0;34m\u001b[0m\u001b[0;34m\u001b[0m\u001b[0m\n\u001b[0;32m----> 5\u001b[0;31m   \u001b[0mdf\u001b[0m\u001b[0;34m=\u001b[0m\u001b[0mredd_dfs\u001b[0m\u001b[0;34m[\u001b[0m\u001b[0mhouse_nb\u001b[0m\u001b[0;34m]\u001b[0m\u001b[0;34m\u001b[0m\u001b[0;34m\u001b[0m\u001b[0m\n\u001b[0m\u001b[1;32m      6\u001b[0m   \u001b[0mhouse_x\u001b[0m\u001b[0;34m=\u001b[0m\u001b[0;34m[\u001b[0m\u001b[0;34m]\u001b[0m\u001b[0;34m\u001b[0m\u001b[0;34m\u001b[0m\u001b[0m\n\u001b[1;32m      7\u001b[0m   \u001b[0mhouse_y\u001b[0m\u001b[0;34m=\u001b[0m\u001b[0;34m[\u001b[0m\u001b[0;34m]\u001b[0m\u001b[0;34m\u001b[0m\u001b[0;34m\u001b[0m\u001b[0m\n",
            "\u001b[0;31mNameError\u001b[0m: name 'redd_dfs' is not defined"
          ]
        }
      ]
    },
    {
      "cell_type": "code",
      "metadata": {
        "id": "1LdcJfjFFW_9"
      },
      "source": [
        "x_evaluation=x_dict[5]\n",
        "y_evaluation=y_dict[5]"
      ],
      "execution_count": null,
      "outputs": []
    },
    {
      "cell_type": "code",
      "metadata": {
        "id": "YDKwRrV8FuAh"
      },
      "source": [
        "x=[]\n",
        "y=[]\n",
        "for i in [1,2,3,6]:\n",
        "  x.extend(x_dict[i])\n",
        "  y.extend(y_dict[i])"
      ],
      "execution_count": null,
      "outputs": []
    },
    {
      "cell_type": "code",
      "metadata": {
        "colab": {
          "base_uri": "https://localhost:8080/"
        },
        "id": "UF0WJaF8MA9U",
        "outputId": "0678f778-0819-444e-e1f7-5d1158091a32"
      },
      "source": [
        "print(len(x))\n",
        "len(y)\n",
        "print(y.count(0))\n",
        "print(y.count(1))"
      ],
      "execution_count": null,
      "outputs": [
        {
          "output_type": "stream",
          "text": [
            "3506\n",
            "1631\n",
            "1875\n"
          ],
          "name": "stdout"
        }
      ]
    },
    {
      "cell_type": "code",
      "metadata": {
        "id": "Zq09jfntbLQH"
      },
      "source": [
        "def get_normal_activations_compensation(x,y):\n",
        "  compensation_nb=y.count(1)-y.count(0)\n",
        "  compensation_list=[]\n",
        "  while (len(compensation_list)<compensation_nb):\n",
        "    r=random.randint(0,len(x))\n",
        "    if y[r]==0:\n",
        "      compensation_list.append(x[r])\n",
        "  return(compensation_list)"
      ],
      "execution_count": null,
      "outputs": []
    },
    {
      "cell_type": "code",
      "metadata": {
        "id": "TKaK84YKJxUC"
      },
      "source": [
        "compensation_list=get_normal_activations_compensation(x,y)"
      ],
      "execution_count": null,
      "outputs": []
    },
    {
      "cell_type": "code",
      "metadata": {
        "colab": {
          "base_uri": "https://localhost:8080/"
        },
        "id": "Uiql7SYAlDoH",
        "outputId": "d571697b-e6d7-42d8-a348-3ffab39c8b86"
      },
      "source": [
        "len(compensation_list)"
      ],
      "execution_count": null,
      "outputs": [
        {
          "output_type": "execute_result",
          "data": {
            "text/plain": [
              "244"
            ]
          },
          "metadata": {
            "tags": []
          },
          "execution_count": 63
        }
      ]
    },
    {
      "cell_type": "code",
      "metadata": {
        "id": "-siu425Cl6n1"
      },
      "source": [
        "for compensation in compensation_list:\n",
        "  x.append(compensation)\n",
        "  y.append(0)"
      ],
      "execution_count": null,
      "outputs": []
    },
    {
      "cell_type": "code",
      "metadata": {
        "colab": {
          "base_uri": "https://localhost:8080/"
        },
        "id": "NUhzz8M8oLba",
        "outputId": "5f39edd2-cd35-44de-a3da-3e8ca9c45ba4"
      },
      "source": [
        "y.count(1)"
      ],
      "execution_count": null,
      "outputs": [
        {
          "output_type": "execute_result",
          "data": {
            "text/plain": [
              "1875"
            ]
          },
          "metadata": {
            "tags": []
          },
          "execution_count": 68
        }
      ]
    },
    {
      "cell_type": "code",
      "metadata": {
        "id": "uTIFPM4z9HVB"
      },
      "source": [
        "print()"
      ],
      "execution_count": null,
      "outputs": []
    },
    {
      "cell_type": "code",
      "metadata": {
        "id": "RENvVnJ7uMO7"
      },
      "source": [
        "redd_dfs={}"
      ],
      "execution_count": null,
      "outputs": []
    },
    {
      "cell_type": "code",
      "metadata": {
        "id": "OmpoJQppuOy3"
      },
      "source": [
        "def read_df(file_title):\n",
        "    try:\n",
        "        df=pd.read_table(file_title, sep=\",\" )\n",
        "        df.columns = [\"time\",\"consumption\"]\n",
        "        try:\n",
        "            df['time'] = pd.to_datetime(df['time'],unit='s')\n",
        "        except:\n",
        "            df['time'] = pd.to_datetime(df['time'])\n",
        "        df.index= df.time\n",
        "        df = df.sort_index()\n",
        "        df.reset_index(drop=True, inplace=True)\n",
        "        return (df)\n",
        "    except:\n",
        "        return(None)"
      ],
      "execution_count": null,
      "outputs": []
    },
    {
      "cell_type": "code",
      "metadata": {
        "id": "tKrBtJTkuRma"
      },
      "source": [
        "for i in [1,2,3,5,6]:\n",
        "    redd_dfs[i]=read_df(\"drive/MyDrive/Resampled_Redd/house_\"+str(i)+\".csv\")"
      ],
      "execution_count": null,
      "outputs": []
    },
    {
      "cell_type": "code",
      "metadata": {
        "id": "DwyM5TcY8qjH"
      },
      "source": [
        "def random_activation_selection(activation_list,train_percentage):\n",
        "    train_indices=random.sample(range(0, len(activation_list)),int(len(activation_list)*train_percentage))\n",
        "    test_indices=[]\n",
        "    for index in range(len(activation_list)):\n",
        "        if index not in train_indices:\n",
        "            test_indices.append(index)\n",
        "    return(train_indices,test_indices)"
      ],
      "execution_count": null,
      "outputs": []
    },
    {
      "cell_type": "code",
      "metadata": {
        "id": "CuoffwI88ygZ"
      },
      "source": [
        "test_train_houses=[1,2,3,5,6]\n",
        "test_train_houses.remove(5)\n",
        "evaluation_houses=[5]"
      ],
      "execution_count": null,
      "outputs": []
    },
    {
      "cell_type": "code",
      "metadata": {
        "id": "c4HERktl-q2Y"
      },
      "source": [
        "def get_test_train(df,activation,activation_type,window_length,train_percentage):\n",
        "    (train_indices,test_indices)=random_activation_selection(activation,train_percentage)\n",
        "    train_data=[fill_window_length_zeros(activation[i],df,window_length) for i in train_indices]\n",
        "    train_labels=[activation_type[i] for i in train_indices]\n",
        "    test_data=[fill_window_length_zeros(activation[i],df,window_length) for i in test_indices]\n",
        "    test_labels=[activation_type[i] for i in test_indices]\n",
        "    return(train_data,train_labels,test_data,test_labels)"
      ],
      "execution_count": null,
      "outputs": []
    },
    {
      "cell_type": "code",
      "metadata": {
        "id": "yxgUBKk9-5dY"
      },
      "source": [
        "x_train=[]\n",
        "y_train=[]\n",
        "x_test=[]\n",
        "y_test=[]\n",
        "for i in [1,2,3,6]:\n",
        "  (train_data,train_labels,test_data,test_labels)=get_test_train(df,Redd_activations[i],Redd_activation_label[i],30,0.7)\n",
        "  x_train.extend(train_data)\n",
        "  y_train.extend(train_labels)\n",
        "  x_test.extend(test_data)\n",
        "  y_test.extend(test_labels)"
      ],
      "execution_count": null,
      "outputs": []
    },
    {
      "cell_type": "code",
      "metadata": {
        "colab": {
          "base_uri": "https://localhost:8080/"
        },
        "id": "kKig9_yxBpCa",
        "outputId": "587979bf-6423-47a5-bdb8-9e42a1aa1b43"
      },
      "source": [
        "len(y_test)"
      ],
      "execution_count": null,
      "outputs": [
        {
          "output_type": "execute_result",
          "data": {
            "text/plain": [
              "594"
            ]
          },
          "metadata": {
            "tags": []
          },
          "execution_count": 48
        }
      ]
    }
  ]
}