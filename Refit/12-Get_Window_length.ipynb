{
 "cells": [
  {
   "cell_type": "code",
   "execution_count": 1,
   "id": "alert-first",
   "metadata": {},
   "outputs": [],
   "source": [
    "import numpy as np\n",
    "import pandas as pd\n",
    "import datetime\n",
    "import gc\n",
    "import multiprocessing as mp\n",
    "import random\n",
    "import math\n",
    "from sklearn.model_selection import train_test_split\n",
    "import tensorflow as tf\n",
    "from tensorflow import keras\n",
    "from tensorflow.keras import layers"
   ]
  },
  {
   "cell_type": "code",
   "execution_count": 2,
   "id": "educational-librarian",
   "metadata": {},
   "outputs": [],
   "source": [
    "def read_df(file_title,house_nb):\n",
    "    try:\n",
    "        df=pd.read_table(file_title, sep=\",\" )\n",
    "        df.columns = [\"time\",\"consumption\"]\n",
    "        try:\n",
    "            df['time'] = pd.to_datetime(df['time'],unit='s')\n",
    "        except:\n",
    "            df['time'] = pd.to_datetime(df['time'])\n",
    "        df.index= df.time\n",
    "        df = df.sort_index()\n",
    "        df.reset_index(drop=True, inplace=True)\n",
    "        return (df,house_nb)\n",
    "    except:\n",
    "        return(None)"
   ]
  },
  {
   "cell_type": "code",
   "execution_count": 3,
   "id": "theoretical-element",
   "metadata": {},
   "outputs": [],
   "source": [
    "Redd_fridges={}\n",
    "for i in [1,2,3,5,6]:\n",
    "    Redd_fridges[i]=read_df(\"Redd_Resampled/house_\"+str(i)+\".csv\",i)[0]"
   ]
  },
  {
   "cell_type": "code",
   "execution_count": 4,
   "id": "light-cannon",
   "metadata": {},
   "outputs": [],
   "source": [
    "pool = mp.Pool(processes = 3)\n",
    "result=pool.starmap(read_df,((\"Refit_Resampled/fridge_freezer/house_\"+str(i+1)+\".csv\",i+1) for i in range(21)))\n",
    "Refit_fridge_freezers={}\n",
    "for i in range(len(result)):\n",
    "    if result[i]!=None:\n",
    "        Refit_fridge_freezers[result[i][1]]=result[i][0]"
   ]
  },
  {
   "cell_type": "code",
   "execution_count": 5,
   "id": "modern-morrison",
   "metadata": {},
   "outputs": [],
   "source": [
    "pool = mp.Pool(processes = 3)\n",
    "result=pool.starmap(read_df,((\"Refit_Resampled/fridge/house_\"+str(i+1)+\".csv\",i+1) for i in range(21)))\n",
    "Refit_fridges={}\n",
    "for i in range(len(result)):\n",
    "    if result[i]!=None:\n",
    "        Refit_fridges[result[i][1]]=result[i][0]"
   ]
  },
  {
   "cell_type": "code",
   "execution_count": 6,
   "id": "dense-circulation",
   "metadata": {},
   "outputs": [],
   "source": [
    "def csv_to_activations(file_title):\n",
    "    df=pd.read_table(file_title, sep=\",\" )\n",
    "    df = df[['beginning', 'end','label']]\n",
    "    activation = [tuple(x[0:2]) for x in df.to_numpy()]\n",
    "    activation_type = [x[2] for x in df.to_numpy()]\n",
    "    return(activation,activation_type)"
   ]
  },
  {
   "cell_type": "code",
   "execution_count": 7,
   "id": "linear-calculation",
   "metadata": {},
   "outputs": [],
   "source": [
    "Refit_fridge_freezer_activation_type={}\n",
    "Refit_fridge_freezer_activations={}\n",
    "for house_nb in range(22):\n",
    "    try:\n",
    "        Refit_fridge_freezer_activations[house_nb]=csv_to_activations(\"Refit_activations/labels/fridge_freezer_resampled/house_\"+str(house_nb))[0]\n",
    "        Refit_fridge_freezer_activation_type[house_nb]=csv_to_activations(\"Refit_activations/labels/fridge_freezer_resampled/house_\"+str(house_nb))[1]\n",
    "    except:\n",
    "        None"
   ]
  },
  {
   "cell_type": "code",
   "execution_count": 8,
   "id": "hired-egypt",
   "metadata": {},
   "outputs": [],
   "source": [
    "Refit_fridge_activation_type={}\n",
    "Refit_fridge_activations={}\n",
    "for house_nb in range(22):\n",
    "    try:\n",
    "        Refit_fridge_activations[house_nb]=csv_to_activations(\"Refit_activations/labels/fridge_resampled/house_\"+str(house_nb))[0]\n",
    "        Refit_fridge_activation_type[house_nb]=csv_to_activations(\"Refit_activations/labels/fridge_resampled/house_\"+str(house_nb))[1]\n",
    "    except:\n",
    "        None"
   ]
  },
  {
   "cell_type": "code",
   "execution_count": 9,
   "id": "social-support",
   "metadata": {},
   "outputs": [],
   "source": [
    "Redd_activation_type={}\n",
    "Redd_activations={}\n",
    "for house_nb in [1,2,3,5,6]:\n",
    "    Redd_activations[house_nb]=csv_to_activations(\"Redd/redd_oversampled_labeled_activations_\"+str(house_nb)+\".csv\")[0]\n",
    "    Redd_activation_type[house_nb]=csv_to_activations(\"Redd/redd_oversampled_labeled_activations_\"+str(house_nb)+\".csv\")[1]"
   ]
  },
  {
   "cell_type": "code",
   "execution_count": 10,
   "id": "ecological-hebrew",
   "metadata": {},
   "outputs": [],
   "source": [
    "def normal_anomolous(activations,activation_type,house_nb):\n",
    "    normal_activations=[]\n",
    "    anomolous_activations=[]\n",
    "    for i in range(len(activations)):\n",
    "        if activation_type[i]==0:\n",
    "            normal_activations.append(activations[i])\n",
    "        else:\n",
    "            anomolous_activations.append(activations[i])\n",
    "    return(normal_activations,anomolous_activations,house_nb)"
   ]
  },
  {
   "cell_type": "code",
   "execution_count": 11,
   "id": "comparable-billion",
   "metadata": {},
   "outputs": [],
   "source": [
    "Refit_fridge_freezer_normal_activations={}\n",
    "Refit_fridge_freezer_anomolous_activations={}\n",
    "for house_nb in Refit_fridge_freezer_activations.keys():\n",
    "    result=normal_anomolous(Refit_fridge_freezer_activations[house_nb],Refit_fridge_freezer_activation_type[house_nb],house_nb)\n",
    "    Refit_fridge_freezer_normal_activations[house_nb]=result[0]\n",
    "    Refit_fridge_freezer_anomolous_activations[house_nb]=result[1]"
   ]
  },
  {
   "cell_type": "code",
   "execution_count": 12,
   "id": "ruled-beaver",
   "metadata": {},
   "outputs": [],
   "source": [
    "Refit_fridge_normal_activations={}\n",
    "Refit_fridge_anomolous_activations={}\n",
    "for house_nb in Refit_fridge_activations.keys():\n",
    "    result=normal_anomolous(Refit_fridge_activations[house_nb],Refit_fridge_activation_type[house_nb],house_nb)\n",
    "    Refit_fridge_normal_activations[house_nb]=result[0]\n",
    "    Refit_fridge_anomolous_activations[house_nb]=result[1]"
   ]
  },
  {
   "cell_type": "code",
   "execution_count": 13,
   "id": "instant-worry",
   "metadata": {},
   "outputs": [],
   "source": [
    "Redd_normal_activations={}\n",
    "Redd_anomolous_activations={}\n",
    "for house_nb in [1,2,3,5,6]:\n",
    "    result=normal_anomolous(Redd_activations[house_nb],Redd_activation_type[house_nb],house_nb)\n",
    "    Redd_normal_activations[house_nb]=result[0]\n",
    "    Redd_anomolous_activations[house_nb]=result[1]"
   ]
  },
  {
   "cell_type": "code",
   "execution_count": 14,
   "id": "dated-dutch",
   "metadata": {},
   "outputs": [],
   "source": [
    "def bigger_activations_ffill(df,activation,windowlength):\n",
    "    begin=activation[0]\n",
    "    end=activation[1]\n",
    "    new_activation=[]\n",
    "    windowlength=windowlength*6\n",
    "    nb_full_activations=math.ceil((end-begin)/windowlength)\n",
    "    for i in range (nb_full_activations):\n",
    "        new_activation.append(list(df.consumption.iloc[begin+i*windowlength:begin+(i+1)*windowlength]))\n",
    "    return (new_activation)"
   ]
  },
  {
   "cell_type": "code",
   "execution_count": 15,
   "id": "illegal-skill",
   "metadata": {},
   "outputs": [],
   "source": [
    "def small_activations_ffill(df,activation,windowlength):\n",
    "    begin=activation[0]\n",
    "    end=activation[1]\n",
    "    difference=windowlength*6+begin-end\n",
    "    new_activation=[]\n",
    "    if ((len(df.index)-activation[1])>=difference):\n",
    "        new_activation=list(df.consumption.iloc[begin:end+difference])\n",
    "    else:\n",
    "        new_activation=list(df.consumption.iloc[begin-difference:end])\n",
    "    return(new_activation)"
   ]
  },
  {
   "cell_type": "code",
   "execution_count": 16,
   "id": "fallen-utilization",
   "metadata": {},
   "outputs": [],
   "source": [
    "def get_x_y(df,activations,activation_type,windowlength):\n",
    "    x=[]\n",
    "    y=[]\n",
    "    for i in range(len(activations)):\n",
    "        activation=activations[i]\n",
    "        label=activation_type[i]\n",
    "        if (activation[1]-activation[0])<=windowlength*6:\n",
    "            x.append(small_activations_ffill(df,activation,windowlength))\n",
    "            y.append(label)\n",
    "        else:\n",
    "            x.extend(bigger_activations_ffill(df,activation,windowlength))\n",
    "            while(len(y)<len(x)):\n",
    "                y.append(label)\n",
    "    return(x,y)"
   ]
  },
  {
   "cell_type": "code",
   "execution_count": 17,
   "id": "banner-filter",
   "metadata": {},
   "outputs": [],
   "source": [
    "test_train_fridge_houses=list(Refit_fridge_activations.keys())\n",
    "test_train_fridge_freezer_houses=list(Refit_fridge_freezer_activations.keys())\n",
    "test_train_redd=list(Redd_activations.keys())\n",
    "\n",
    "test_train_fridge_houses.remove(11)\n",
    "test_train_fridge_freezer_houses.remove(11)\n",
    "test_train_redd.remove(5)\n",
    "evaluation_houses=[11]\n",
    "evaluation_houses_redd=[5]\n",
    "\n",
    "test_train_fridge_freezer_houses.remove(3)\n",
    "test_train_fridge_freezer_houses.remove(16)\n",
    "test_train_toadd_freezer=[3,16]"
   ]
  },
  {
   "cell_type": "code",
   "execution_count": 18,
   "id": "complete-agency",
   "metadata": {},
   "outputs": [],
   "source": [
    "pool = mp.Pool(processes = 3)\n",
    "result=pool.starmap(get_x_y,((Refit_fridges[i],Refit_fridge_activations[i],Refit_fridge_activation_type[i],45) for i in test_train_fridge_houses))"
   ]
  },
  {
   "cell_type": "code",
   "execution_count": 19,
   "id": "valid-polymer",
   "metadata": {},
   "outputs": [],
   "source": [
    "x_total_refit=[]\n",
    "y_total_refit=[]\n",
    "for i in range(len(result)):\n",
    "    x_total_refit.extend(result[i][0])\n",
    "    y_total_refit.extend(result[i][1])"
   ]
  },
  {
   "cell_type": "code",
   "execution_count": 20,
   "id": "compact-retention",
   "metadata": {},
   "outputs": [],
   "source": [
    "pool = mp.Pool(processes = 3)\n",
    "result=pool.starmap(get_x_y,((Refit_fridge_freezers[i],Refit_fridge_freezer_activations[i],Refit_fridge_freezer_activation_type[i],45) for i in test_train_fridge_freezer_houses))"
   ]
  },
  {
   "cell_type": "code",
   "execution_count": 21,
   "id": "medium-mediterranean",
   "metadata": {},
   "outputs": [],
   "source": [
    "for i in range(len(result)):\n",
    "    x_total_refit.extend(result[i][0])\n",
    "    y_total_refit.extend(result[i][1])"
   ]
  },
  {
   "cell_type": "code",
   "execution_count": 22,
   "id": "amino-garlic",
   "metadata": {},
   "outputs": [],
   "source": [
    "pool = mp.Pool(processes = 3)\n",
    "result=pool.starmap(get_x_y,((Redd_fridges[i],Redd_activations[i],Redd_activation_type[i],45) for i in test_train_redd))"
   ]
  },
  {
   "cell_type": "code",
   "execution_count": 23,
   "id": "spoken-maintenance",
   "metadata": {},
   "outputs": [],
   "source": [
    "x_total_redd=[]\n",
    "y_total_redd=[]\n",
    "for i in range(len(result)):\n",
    "    x_total_redd.extend(result[i][0])\n",
    "    y_total_redd.extend(result[i][1])"
   ]
  },
  {
   "cell_type": "code",
   "execution_count": 18,
   "id": "respective-disaster",
   "metadata": {},
   "outputs": [],
   "source": [
    "x_unseen=[]\n",
    "y_unseen=[]\n",
    "x_unseen.extend(get_x_y(Refit_fridges[11],Refit_fridge_activations[11],Refit_fridge_activation_type[11],45)[0])\n",
    "y_unseen.extend(get_x_y(Refit_fridges[11],Refit_fridge_activations[11],Refit_fridge_activation_type[11],45)[1])"
   ]
  },
  {
   "cell_type": "code",
   "execution_count": 19,
   "id": "approximate-letter",
   "metadata": {},
   "outputs": [],
   "source": [
    "x_unseen.extend(get_x_y(Refit_fridge_freezers[11],Refit_fridge_freezer_activations[11],Refit_fridge_freezer_activation_type[11],45)[0])\n",
    "y_unseen.extend(get_x_y(Refit_fridge_freezers[11],Refit_fridge_freezer_activations[11],Refit_fridge_freezer_activation_type[11],45)[1])"
   ]
  },
  {
   "cell_type": "code",
   "execution_count": 20,
   "id": "otherwise-replacement",
   "metadata": {},
   "outputs": [],
   "source": [
    "x_unseen.extend(get_x_y(Redd_fridges[5],Redd_activations[5],Redd_activation_type[5],45)[0])\n",
    "y_unseen.extend(get_x_y(Redd_fridges[5],Redd_activations[5],Redd_activation_type[5],45)[1])"
   ]
  },
  {
   "cell_type": "code",
   "execution_count": 21,
   "id": "compliant-radar",
   "metadata": {},
   "outputs": [
    {
     "name": "stdout",
     "output_type": "stream",
     "text": [
      "6638\n",
      "6638\n",
      "8239\n",
      "8239\n"
     ]
    }
   ],
   "source": [
    "x_normal_unseen=[]\n",
    "x_anomolous_unseen=[]\n",
    "nb_normal=0\n",
    "nb_abnormal=0\n",
    "for i in range(len(y_unseen)):\n",
    "    if y_unseen[i]==0:\n",
    "        x_normal_unseen.append(x_unseen[i])\n",
    "        nb_normal+=1\n",
    "    else:\n",
    "        x_anomolous_unseen.append(x_unseen[i])\n",
    "        nb_abnormal+=1\n",
    "print(nb_normal)\n",
    "print(len(x_normal_unseen))\n",
    "print(nb_abnormal)\n",
    "print(len(x_anomolous_unseen))"
   ]
  },
  {
   "cell_type": "code",
   "execution_count": 24,
   "id": "brazilian-mouse",
   "metadata": {},
   "outputs": [
    {
     "name": "stdout",
     "output_type": "stream",
     "text": [
      "1631\n",
      "1631\n",
      "1878\n",
      "1878\n"
     ]
    }
   ],
   "source": [
    "x_normal_redd=[]\n",
    "x_anomolous_redd=[]\n",
    "nb_normal=0\n",
    "nb_abnormal=0\n",
    "for i in range(len(y_total_redd)):\n",
    "    if y_total_redd[i]==0:\n",
    "        x_normal_redd.append(x_total_redd[i])\n",
    "        nb_normal+=1\n",
    "    else:\n",
    "        x_anomolous_redd.append(x_total_redd[i])\n",
    "        nb_abnormal+=1\n",
    "print(nb_normal)\n",
    "print(len(x_normal_redd))\n",
    "print(nb_abnormal)\n",
    "print(len(x_anomolous_redd))"
   ]
  },
  {
   "cell_type": "code",
   "execution_count": 25,
   "id": "stunning-establishment",
   "metadata": {},
   "outputs": [
    {
     "name": "stdout",
     "output_type": "stream",
     "text": [
      "161731\n",
      "161731\n",
      "198000\n",
      "198000\n"
     ]
    }
   ],
   "source": [
    "x_normal=[]\n",
    "x_anomolous=[]\n",
    "nb_normal=0\n",
    "nb_abnormal=0\n",
    "for i in range(len(y_total_refit)):\n",
    "    if y_total_refit[i]==0:\n",
    "        x_normal.append(x_total_refit[i])\n",
    "        nb_normal+=1\n",
    "    else:\n",
    "        x_anomolous.append(x_total_refit[i])\n",
    "        nb_abnormal+=1\n",
    "print(nb_normal)\n",
    "print(len(x_normal))\n",
    "print(nb_abnormal)\n",
    "print(len(x_anomolous))"
   ]
  },
  {
   "cell_type": "code",
   "execution_count": 23,
   "id": "designed-murray",
   "metadata": {},
   "outputs": [],
   "source": [
    "def oversampled_normal(x_normal,x_anomolous):\n",
    "    normal_nb=len(x_normal)\n",
    "    abnormal_nb=len(x_anomolous)\n",
    "    oversampling_nb=abnormal_nb-normal_nb\n",
    "    oversampled_list=[]\n",
    "    for i in range(0,oversampling_nb):\n",
    "        oversampled_list.append(random.choice(x_normal))\n",
    "    return (oversampled_list)"
   ]
  },
  {
   "cell_type": "code",
   "execution_count": 27,
   "id": "linear-vault",
   "metadata": {},
   "outputs": [],
   "source": [
    "x_total_refit.extend(oversampled_normal(x_normal,x_anomolous))\n",
    "while(len(y_total_refit)<len(x_total_refit)):\n",
    "    y_total_refit.append(0)"
   ]
  },
  {
   "cell_type": "code",
   "execution_count": 28,
   "id": "lyric-spencer",
   "metadata": {},
   "outputs": [],
   "source": [
    "x_total_redd.extend(oversampled_normal(x_normal_redd,x_anomolous_redd))\n",
    "while(len(y_total_redd)<len(x_total_redd)):\n",
    "    y_total_redd.append(0)"
   ]
  },
  {
   "cell_type": "code",
   "execution_count": 22,
   "id": "absent-courage",
   "metadata": {},
   "outputs": [],
   "source": [
    "x_unseen=np.array(x_unseen)\n",
    "y_unseen=np.array(y_unseen)"
   ]
  },
  {
   "cell_type": "code",
   "execution_count": 23,
   "id": "accepting-toddler",
   "metadata": {},
   "outputs": [
    {
     "data": {
      "text/plain": [
       "numpy.ndarray"
      ]
     },
     "execution_count": 23,
     "metadata": {},
     "output_type": "execute_result"
    }
   ],
   "source": [
    "type(x_unseen[0])"
   ]
  },
  {
   "cell_type": "code",
   "execution_count": 29,
   "id": "atomic-martial",
   "metadata": {},
   "outputs": [],
   "source": [
    "x_total_refit=np.array(x_total_refit)\n",
    "y_total_refit=np.array(y_total_refit)"
   ]
  },
  {
   "cell_type": "code",
   "execution_count": 30,
   "id": "thick-geology",
   "metadata": {},
   "outputs": [
    {
     "data": {
      "text/plain": [
       "numpy.ndarray"
      ]
     },
     "execution_count": 30,
     "metadata": {},
     "output_type": "execute_result"
    }
   ],
   "source": [
    "type(x_total_refit[0])"
   ]
  },
  {
   "cell_type": "code",
   "execution_count": 31,
   "id": "still-cooperation",
   "metadata": {},
   "outputs": [],
   "source": [
    "x_total_redd=np.array(x_total_redd)\n",
    "y_total_redd=np.array(y_total_redd)"
   ]
  },
  {
   "cell_type": "code",
   "execution_count": 32,
   "id": "associate-brook",
   "metadata": {},
   "outputs": [],
   "source": [
    "x_train_refit, x_test_refit, y_train_refit, y_test_refit = train_test_split(x_total_refit, y_total_refit, test_size=0.3)"
   ]
  },
  {
   "cell_type": "code",
   "execution_count": 33,
   "id": "genetic-muscle",
   "metadata": {},
   "outputs": [],
   "source": [
    "x_train_redd, x_test_redd, y_train_redd, y_test_redd = train_test_split(x_total_redd, y_total_redd, test_size=0.3)"
   ]
  },
  {
   "cell_type": "code",
   "execution_count": 34,
   "id": "cooperative-bandwidth",
   "metadata": {},
   "outputs": [],
   "source": [
    "x_train=np.concatenate((x_train_refit, x_train_redd), axis=0)\n",
    "y_train=np.concatenate((y_train_refit, y_train_redd), axis=0)\n",
    "x_test=np.concatenate((x_test_refit, x_test_redd), axis=0)\n",
    "y_test=np.concatenate((y_test_refit, y_test_redd), axis=0)"
   ]
  },
  {
   "cell_type": "code",
   "execution_count": 35,
   "id": "floppy-shield",
   "metadata": {},
   "outputs": [],
   "source": [
    "x_train=np.array(x_train)\n",
    "x_test=np.array(x_test)"
   ]
  },
  {
   "cell_type": "code",
   "execution_count": 36,
   "id": "refined-shell",
   "metadata": {},
   "outputs": [],
   "source": [
    "y=y_train\n",
    "y_train=[]\n",
    "for i in range(len(y)):\n",
    "    y_train.append(np.array([y[i]]))\n",
    "y_train=np.array(y_train)"
   ]
  },
  {
   "cell_type": "code",
   "execution_count": 37,
   "id": "alone-float",
   "metadata": {},
   "outputs": [],
   "source": [
    "y=y_test\n",
    "y_test=[]\n",
    "for i in range(len(y)):\n",
    "    y_test.append(np.array([y[i]]))\n",
    "y_test=np.array(y_test)"
   ]
  },
  {
   "cell_type": "code",
   "execution_count": 25,
   "id": "hairy-portugal",
   "metadata": {},
   "outputs": [],
   "source": [
    "y=y_unseen\n",
    "y_unseen=[]\n",
    "for i in range(len(y)):\n",
    "    y_unseen.append(np.array([y[i]]))\n",
    "y_unseen=np.array(y_unseen)"
   ]
  },
  {
   "cell_type": "code",
   "execution_count": 26,
   "id": "piano-pixel",
   "metadata": {},
   "outputs": [
    {
     "data": {
      "text/plain": [
       "(14877, 1)"
      ]
     },
     "execution_count": 26,
     "metadata": {},
     "output_type": "execute_result"
    }
   ],
   "source": [
    "y_unseen.shape"
   ]
  },
  {
   "cell_type": "code",
   "execution_count": 38,
   "id": "spectacular-loading",
   "metadata": {},
   "outputs": [
    {
     "data": {
      "text/plain": [
       "(119927, 1)"
      ]
     },
     "execution_count": 38,
     "metadata": {},
     "output_type": "execute_result"
    }
   ],
   "source": [
    "y_test.shape"
   ]
  },
  {
   "cell_type": "code",
   "execution_count": 39,
   "id": "absolute-outside",
   "metadata": {},
   "outputs": [
    {
     "name": "stdout",
     "output_type": "stream",
     "text": [
      "(279829, 270)\n",
      "(119927, 270)\n",
      "(279829, 1)\n",
      "(119927, 1)\n"
     ]
    }
   ],
   "source": [
    "print(x_train.shape)\n",
    "print(x_test.shape)\n",
    "print(y_train.shape)\n",
    "print(y_test.shape)"
   ]
  },
  {
   "cell_type": "code",
   "execution_count": 40,
   "id": "satellite-updating",
   "metadata": {},
   "outputs": [
    {
     "data": {
      "text/plain": [
       "array([   0.,    0., 1018.,  105.,  107.,  109.,  104.,  110.,  102.,\n",
       "        102.,  105.,  102.,  103.,  103.,  100.,   96.,   95.,   95.,\n",
       "         95.,   94.,   95.,   95.,   95.,   95.,   94.,   95.,   95.,\n",
       "         95.,   93.,   92.,   93.,   93.,   92.,   91.,   92.,   91.,\n",
       "         91.,   90.,   90.,   90.,   90.,   90.,   90.,   89.,   89.,\n",
       "         89.,   89.,   89.,   88.,   88.,   88.,   87.,   87.,   87.,\n",
       "         88.,   88.,   88.,   87.,   87.,   87.,   88.,   88.,   87.,\n",
       "         87.,   87.,   87.,   87.,   87.,   87.,   85.,   86.,   86.,\n",
       "         86.,   86.,   86.,   86.,   85.,   84.,   85.,   85.,   84.,\n",
       "         85.,   84.,   84.,   85.,   84.,   84.,   85.,   84.,   84.,\n",
       "         84.,   84.,   84.,   83.,   84.,   83.,   83.,   83.,   83.,\n",
       "         83.,   83.,   83.,   83.,   83.,   83.,   82.,   83.,   83.,\n",
       "         83.,   83.,   83.,   82.,   82.,   83.,   82.,   82.,   82.,\n",
       "         83.,   82.,   82.,   82.,   82.,   82.,   82.,   81.,   82.,\n",
       "         82.,   81.,   81.,   81.,   82.,   81.,   82.,   82.,   81.,\n",
       "         80.,   81.,   81.,   80.,   81.,   81.,   81.,   80.,   81.,\n",
       "         81.,   81.,   81.,   81.,   81.,   81.,   81.,   80.,   80.,\n",
       "         80.,   80.,   80.,   80.,   80.,   80.,   50.,   50.,   50.,\n",
       "         50.,   50.,    0.,    0.,    0.,    0.,    0.,    0.,    0.,\n",
       "          0.,    0.,    0.,    0.,    0.,    0.,    0.,    0.,    0.,\n",
       "          0.,    0.,    0.,    0.,    0.,    0.,    0.,    0.,    0.,\n",
       "          0.,    0.,    0.,    0.,    0.,    0.,    0.,    0.,    0.,\n",
       "          0.,    0.,    0.,    0.,    0.,    0.,    0.,    0.,    0.,\n",
       "          0.,    0.,    0.,    0.,    0.,    0.,    0.,    0.,    0.,\n",
       "          0.,    0.,    0.,    0.,    0.,    0.,    0.,    0.,    0.,\n",
       "          0.,    0.,    0.,    0.,    0.,    0.,    0.,    0.,    0.,\n",
       "          0.,    0.,    0.,    0.,    0.,    0.,    0.,    0.,    0.,\n",
       "          0.,    0.,    0.,    0.,    0.,    0.,    0.,    0.,    0.,\n",
       "          0.,    0.,    0.,    0.,    0.,    0.,    0.,    0.,    0.,\n",
       "          0.,    0.,    0.,    0.,    0.,    0.,    0.,    0.,    0.])"
      ]
     },
     "execution_count": 40,
     "metadata": {},
     "output_type": "execute_result"
    }
   ],
   "source": [
    "x_train[0]"
   ]
  },
  {
   "cell_type": "code",
   "execution_count": 41,
   "id": "quarterly-injury",
   "metadata": {},
   "outputs": [
    {
     "data": {
      "text/plain": [
       "array([1])"
      ]
     },
     "execution_count": 41,
     "metadata": {},
     "output_type": "execute_result"
    }
   ],
   "source": [
    "y_train[0]"
   ]
  },
  {
   "cell_type": "code",
   "execution_count": 42,
   "id": "literary-travel",
   "metadata": {},
   "outputs": [],
   "source": [
    "mean=x_train.mean()\n",
    "std=x_train.std()"
   ]
  },
  {
   "cell_type": "code",
   "execution_count": 43,
   "id": "numeric-conspiracy",
   "metadata": {},
   "outputs": [
    {
     "name": "stdout",
     "output_type": "stream",
     "text": [
      "61.2186529657067\n",
      "77.31717709962946\n"
     ]
    }
   ],
   "source": [
    "print(mean)\n",
    "print(std)"
   ]
  },
  {
   "cell_type": "code",
   "execution_count": 27,
   "id": "vanilla-yeast",
   "metadata": {},
   "outputs": [],
   "source": [
    "mean=61.2186529657067\n",
    "std=77.31717709962946"
   ]
  },
  {
   "cell_type": "code",
   "execution_count": 44,
   "id": "exact-coach",
   "metadata": {},
   "outputs": [],
   "source": [
    "x_train=x_train-mean\n",
    "x_test=x_test-mean"
   ]
  },
  {
   "cell_type": "code",
   "execution_count": 45,
   "id": "official-tradition",
   "metadata": {},
   "outputs": [
    {
     "name": "stdout",
     "output_type": "stream",
     "text": [
      "3.1933623283733256e-14\n",
      "0.081236164378277\n"
     ]
    }
   ],
   "source": [
    "print(x_train.mean())\n",
    "print(x_test.mean())"
   ]
  },
  {
   "cell_type": "code",
   "execution_count": 46,
   "id": "approximate-spank",
   "metadata": {},
   "outputs": [],
   "source": [
    "x_train=x_train/std\n",
    "x_test=x_test/std"
   ]
  },
  {
   "cell_type": "code",
   "execution_count": 47,
   "id": "removable-semester",
   "metadata": {},
   "outputs": [
    {
     "name": "stdout",
     "output_type": "stream",
     "text": [
      "0.9999999999999973\n",
      "1.0046180059309586\n"
     ]
    }
   ],
   "source": [
    "print(x_train.std())\n",
    "print(x_test.std())"
   ]
  },
  {
   "cell_type": "code",
   "execution_count": 28,
   "id": "warming-fleece",
   "metadata": {},
   "outputs": [],
   "source": [
    "x_unseen=x_unseen-mean\n",
    "x_unseen=x_unseen/std"
   ]
  },
  {
   "cell_type": "code",
   "execution_count": 29,
   "id": "stone-namibia",
   "metadata": {},
   "outputs": [
    {
     "name": "stdout",
     "output_type": "stream",
     "text": [
      "-0.18082058194695144\n",
      "1.4450238820728696\n"
     ]
    }
   ],
   "source": [
    "print(x_unseen.mean())\n",
    "print(x_unseen.std())"
   ]
  },
  {
   "cell_type": "code",
   "execution_count": 38,
   "id": "fuzzy-cholesterol",
   "metadata": {},
   "outputs": [
    {
     "data": {
      "text/plain": [
       "array([-0.79179, -0.79179, -0.19683, -0.23564, -0.2615 , -0.3003 ,\n",
       "       -0.31324, -0.32617, -0.32617, -0.32617, -0.32617, -0.33911,\n",
       "       -0.32617, -0.32617, -0.32617, -0.33911, -0.32617, -0.32617,\n",
       "       -0.32617, -0.32617, -0.32617, -0.32617, -0.31324, -0.32617,\n",
       "       -0.31324, -0.31324, -0.32617, -0.32617, -0.3003 , -0.32617,\n",
       "       -0.31324, -0.31324, -0.31324, -0.3003 , -0.31324, -0.31324,\n",
       "       -0.3003 , -0.31324, -0.31324, -0.31324, -0.31324, -0.3003 ,\n",
       "       -0.31324, -0.31324, -0.3003 , -0.31324, -0.3003 , -0.3003 ,\n",
       "       -0.3003 , -0.31324, -0.3003 , -0.3003 , -0.3003 , -0.3003 ,\n",
       "       -0.3003 , -0.3003 , -0.3003 , -0.31324, -0.3003 , -0.3003 ,\n",
       "       -0.3003 , -0.3003 , -0.3003 , -0.3003 , -0.3003 , -0.3003 ,\n",
       "       -0.3003 , -0.3003 , -0.3003 , -0.3003 , -0.3003 , -0.3003 ,\n",
       "       -0.3003 , -0.3003 , -0.31324, -0.31324, -0.3003 , -0.3003 ,\n",
       "       -0.31324, -0.3003 , -0.3003 , -0.3003 , -0.31324, -0.31324,\n",
       "       -0.31324, -0.3003 , -0.31324, -0.31324, -0.3003 , -0.3003 ,\n",
       "       -0.31324, -0.3003 , -0.3003 , -0.3003 , -0.31324, -0.31324,\n",
       "       -0.31324, -0.3003 , -0.31324, -0.31324, -0.3003 , -0.31324,\n",
       "       -0.3003 , -0.3003 , -0.31324, -0.31324, -0.31324, -0.3003 ,\n",
       "       -0.31324, -0.31324, -0.31324, -0.31324, -0.3003 , -0.3003 ,\n",
       "       -0.3003 , -0.31324, -0.3003 , -0.31324, -0.31324, -0.31324,\n",
       "       -0.3003 , -0.31324, -0.3003 , -0.31324, -0.31324, -0.31324,\n",
       "       -0.31324, -0.31324, -0.42964, -0.42964, -0.79179, -0.79179,\n",
       "       -0.79179, -0.79179, -0.79179, -0.79179, -0.79179, -0.79179,\n",
       "       -0.79179, -0.79179, -0.79179, -0.79179, -0.79179, -0.79179,\n",
       "       -0.79179, -0.79179, -0.79179, -0.79179, -0.79179, -0.79179,\n",
       "       -0.79179, -0.79179, -0.79179, -0.79179, -0.79179, -0.79179,\n",
       "       -0.79179, -0.79179, -0.79179, -0.79179, -0.79179, -0.79179,\n",
       "       -0.79179, -0.79179, -0.79179, -0.79179, -0.79179, -0.79179,\n",
       "       -0.79179, -0.79179, -0.79179, -0.79179, -0.79179, -0.79179,\n",
       "       -0.79179, -0.79179, -0.79179, -0.79179, -0.79179, -0.79179,\n",
       "       -0.79179, -0.79179, -0.79179, -0.79179, -0.79179, -0.79179,\n",
       "       -0.79179, -0.79179, -0.79179, -0.79179, -0.79179, -0.79179,\n",
       "       -0.79179, -0.79179, -0.79179, -0.79179, -0.79179, -0.79179,\n",
       "       -0.79179, -0.79179, -0.79179, -0.79179, -0.79179, -0.79179,\n",
       "       -0.79179, -0.79179, -0.79179, -0.79179, -0.79179, -0.79179,\n",
       "       -0.79179, -0.79179, -0.79179, -0.79179, -0.79179, -0.79179,\n",
       "       -0.79179, -0.79179, -0.79179, -0.79179, -0.79179, -0.79179,\n",
       "       -0.79179, -0.79179, -0.79179, -0.79179, -0.79179, -0.79179,\n",
       "       -0.79179, -0.79179, -0.79179, -0.79179, -0.79179, -0.79179,\n",
       "       -0.79179, -0.79179, -0.79179, -0.79179, -0.79179, -0.79179,\n",
       "       -0.79179, -0.79179, -0.79179, -0.79179, -0.79179, -0.79179,\n",
       "       -0.79179, -0.79179, -0.79179, -0.79179, -0.79179, -0.79179,\n",
       "       -0.79179, -0.79179, -0.79179, -0.79179, -0.79179, -0.79179,\n",
       "       -0.79179, -0.79179, -0.79179, -0.79179, -0.79179, -0.79179,\n",
       "       -0.79179, -0.79179, -0.79179, -0.79179, -0.79179, -0.79179])"
      ]
     },
     "execution_count": 38,
     "metadata": {},
     "output_type": "execute_result"
    }
   ],
   "source": [
    "x_unseen[2]"
   ]
  },
  {
   "cell_type": "code",
   "execution_count": 31,
   "id": "provincial-annex",
   "metadata": {},
   "outputs": [],
   "source": [
    "x_unseen=np.round(x_unseen, 5)"
   ]
  },
  {
   "cell_type": "code",
   "execution_count": 48,
   "id": "recent-therapist",
   "metadata": {},
   "outputs": [],
   "source": [
    "x_train=np.round(x_train, 5)"
   ]
  },
  {
   "cell_type": "code",
   "execution_count": 49,
   "id": "defensive-plain",
   "metadata": {},
   "outputs": [],
   "source": [
    "x_test=np.round(x_test, 5)"
   ]
  },
  {
   "cell_type": "code",
   "execution_count": 41,
   "id": "minus-appreciation",
   "metadata": {},
   "outputs": [],
   "source": [
    "pd.DataFrame(x_unseen).to_csv(\"x_unseen.csv\",sep=\",\")"
   ]
  },
  {
   "cell_type": "code",
   "execution_count": 42,
   "id": "miniature-driver",
   "metadata": {},
   "outputs": [],
   "source": [
    "pd.DataFrame(y_unseen).to_csv(\"y_unseen.csv\",sep=\",\")"
   ]
  },
  {
   "cell_type": "code",
   "execution_count": 50,
   "id": "dietary-payday",
   "metadata": {},
   "outputs": [],
   "source": [
    "pd.DataFrame(x_train).to_csv(\"x_train.csv\",sep=\",\")"
   ]
  },
  {
   "cell_type": "code",
   "execution_count": 51,
   "id": "interracial-reverse",
   "metadata": {},
   "outputs": [],
   "source": [
    "pd.DataFrame(x_test).to_csv(\"x_test.csv\",sep=\",\")"
   ]
  },
  {
   "cell_type": "code",
   "execution_count": 53,
   "id": "consecutive-monroe",
   "metadata": {},
   "outputs": [],
   "source": [
    "pd.DataFrame(y_train).to_csv(\"y_train.csv\",sep=\",\")"
   ]
  },
  {
   "cell_type": "code",
   "execution_count": 52,
   "id": "vietnamese-shoulder",
   "metadata": {},
   "outputs": [],
   "source": [
    "pd.DataFrame(y_test).to_csv(\"y_test.csv\",sep=\",\")"
   ]
  },
  {
   "cell_type": "code",
   "execution_count": 49,
   "id": "increasing-family",
   "metadata": {},
   "outputs": [
    {
     "data": {
      "text/plain": [
       "array([ 0.52529,  0.53818,  0.52529,  0.53818,  0.53818,  0.55107,\n",
       "        0.55107,  0.56397,  0.56397,  0.56397,  0.56397,  0.57686,\n",
       "        0.57686,  0.57686,  0.57686,  0.57686,  0.57686,  0.56397,\n",
       "        0.57686,  0.56397,  0.56397,  0.56397,  0.56397,  0.56397,\n",
       "        0.56397,  0.56397,  0.56397,  0.56397,  0.55107,  0.55107,\n",
       "        0.55107,  0.53818,  0.53818,  0.53818,  0.53818,  0.53818,\n",
       "        0.52529,  0.53818,  0.53818,  0.53818,  0.53818,  0.55107,\n",
       "        0.53818,  0.53818,  0.55107,  0.55107,  0.55107,  0.53818,\n",
       "        0.55107,  0.53818,  0.55107,  0.55107,  0.55107,  0.55107,\n",
       "        0.55107,  0.55107,  0.53818,  0.55107,  0.55107,  0.55107,\n",
       "        0.55107,  0.55107,  0.55107,  0.55107,  0.53818,  0.55107,\n",
       "        0.53818,  0.53818,  0.55107,  0.53818,  0.53818,  0.55107,\n",
       "        0.55107,  0.55107,  0.53818,  0.52529,  0.52529,  0.52529,\n",
       "        0.52529,  0.52529,  0.52529,  0.52529,  0.52529,  0.53818,\n",
       "        0.53818,  0.53818,  0.53818,  0.53818,  0.53818,  0.53818,\n",
       "        0.53818,  0.53818,  0.55107,  0.53818,  0.53818,  0.55107,\n",
       "        0.55107,  0.55107,  0.55107,  0.55107,  0.55107,  0.55107,\n",
       "        0.56397,  0.56397,  0.56397,  0.56397,  0.56397,  0.55107,\n",
       "        0.55107,  0.55107,  0.55107,  0.55107,  0.55107,  0.55107,\n",
       "        0.53818,  0.53818,  0.53818,  0.52529,  0.53818,  0.52529,\n",
       "        0.53818,  0.53818,  0.53818,  0.53818,  0.52529,  0.52529,\n",
       "        0.53818,  0.53818,  0.53818,  0.52529,  0.53818,  0.52529,\n",
       "        0.52529,  0.52529,  0.52529,  0.53818,  0.53818,  0.52529,\n",
       "        0.52529,  0.53818,  0.53818,  0.55107,  0.53818,  0.53818,\n",
       "        0.53818,  0.53818,  0.53818,  0.53818,  0.53818,  0.53818,\n",
       "        0.53818,  0.53818,  0.53818,  0.52529,  0.52529,  0.52529,\n",
       "        0.52529,  0.52529,  0.52529,  0.52529,  0.53818,  0.53818,\n",
       "        0.55107,  0.53818,  0.53818,  0.53818,  0.55107,  0.55107,\n",
       "        0.55107,  0.53818,  0.53818,  0.52529,  0.52529,  0.53818,\n",
       "        0.52529,  0.52529,  0.53818,  0.52529,  0.52529,  0.52529,\n",
       "        0.52529,  0.53818,  0.52529,  0.53818,  0.52529,  0.53818,\n",
       "        0.55107,  0.55107,  0.53818,  0.53818,  0.53818,  0.53818,\n",
       "        0.53818,  0.53818,  0.53818,  0.52529,  0.53818,  0.52529,\n",
       "        0.53818,  0.52529,  0.52529,  0.53818,  0.53818,  0.52529,\n",
       "        0.53818,  0.53818,  0.53818,  0.53818,  0.52529,  0.55107,\n",
       "       -0.71247, -0.71247, -0.71247, -0.76404, -0.76404, -0.76404,\n",
       "       -0.76404, -0.76404, -0.76404, -0.76404, -0.76404, -0.76404,\n",
       "       -0.76404, -0.76404, -0.76404, -0.76404, -0.76404, -0.76404,\n",
       "       -0.76404, -0.76404, -0.76404, -0.76404, -0.76404, -0.76404,\n",
       "       -0.76404, -0.76404, -0.76404, -0.76404, -0.76404, -0.76404,\n",
       "       -0.76404, -0.76404, -0.76404, -0.76404, -0.76404, -0.76404,\n",
       "       -0.76404, -0.76404, -0.76404, -0.76404, -0.76404, -0.76404,\n",
       "       -0.76404, -0.76404, -0.76404, -0.76404, -0.76404, -0.76404,\n",
       "       -0.76404, -0.76404, -0.76404, -0.76404, -0.76404, -0.76404,\n",
       "       -0.76404, -0.76404, -0.76404, -0.76404, -0.76404, -0.76404])"
      ]
     },
     "execution_count": 49,
     "metadata": {},
     "output_type": "execute_result"
    }
   ],
   "source": [
    "x_train[0]"
   ]
  },
  {
   "cell_type": "code",
   "execution_count": 54,
   "id": "entitled-recruitment",
   "metadata": {},
   "outputs": [],
   "source": [
    "pd.DataFrame(y_train).to_csv(\"y_train.csv\")"
   ]
  },
  {
   "cell_type": "code",
   "execution_count": 48,
   "id": "binary-clearance",
   "metadata": {},
   "outputs": [],
   "source": [
    "def build_fc_model():\n",
    "  fc_model = tf.keras.Sequential([\n",
    "      # The sequential model is a linear stack of layers.\n",
    "      tf.keras.layers.Dense(32, activation=tf.nn.relu,input_shape=(270,)),\n",
    "      # activation=tf.nn.relu returns the standard ReLU activation: max(x, 0), \n",
    "      # the element-wise maximum of 0 and the input tensor.\n",
    "      tf.keras.layers.Dense(10, activation=tf.nn.softmax),\n",
    "      #tf.nn.softmax produces just the result of applying the softmax function\n",
    "      #to an input tensor. The softmax \"squishes\" the inputs so that sum(input) = 1:\n",
    "      #it's a way of normalizing\n",
    "      tf.keras.layers.Dense(1)\n",
    "      \n",
    "  ])\n",
    "  return fc_model\n",
    "\n",
    "model = build_fc_model()"
   ]
  },
  {
   "cell_type": "code",
   "execution_count": 49,
   "id": "legendary-burke",
   "metadata": {},
   "outputs": [
    {
     "name": "stdout",
     "output_type": "stream",
     "text": [
      "Model: \"sequential\"\n",
      "_________________________________________________________________\n",
      "Layer (type)                 Output Shape              Param #   \n",
      "=================================================================\n",
      "dense (Dense)                (None, 32)                8672      \n",
      "_________________________________________________________________\n",
      "dense_1 (Dense)              (None, 10)                330       \n",
      "_________________________________________________________________\n",
      "dense_2 (Dense)              (None, 1)                 11        \n",
      "=================================================================\n",
      "Total params: 9,013\n",
      "Trainable params: 9,013\n",
      "Non-trainable params: 0\n",
      "_________________________________________________________________\n"
     ]
    }
   ],
   "source": [
    "model.summary()"
   ]
  },
  {
   "cell_type": "code",
   "execution_count": 50,
   "id": "requested-country",
   "metadata": {},
   "outputs": [],
   "source": [
    "model.compile(optimizer=tf.keras.optimizers.SGD(learning_rate=2e-1), \n",
    "              loss='sparse_categorical_crossentropy',\n",
    "              metrics=['accuracy'])\n",
    "# optimizer= tf.keras.optimizers.SGD with SGD standing for **stochastic gradient descent \n",
    "# learning rate is the amount of change the model undergoes during the training process\n",
    "# 'sparse_categorical_crossentropy' loss the crossentropy loss between the labels and predictions."
   ]
  },
  {
   "cell_type": "code",
   "execution_count": null,
   "id": "suffering-minority",
   "metadata": {},
   "outputs": [],
   "source": [
    "BATCH_SIZE = 64\n",
    "EPOCHS = 5\n",
    "\n",
    "model.fit(x_train, y_train, batch_size=BATCH_SIZE, epochs=EPOCHS)"
   ]
  },
  {
   "cell_type": "code",
   "execution_count": null,
   "id": "imperial-supervisor",
   "metadata": {},
   "outputs": [],
   "source": [
    "x_data = np.genfromtxt('x_train.csv',delimiter=',')"
   ]
  },
  {
   "cell_type": "code",
   "execution_count": 50,
   "id": "ranking-school",
   "metadata": {},
   "outputs": [
    {
     "data": {
      "text/plain": [
       "(0,)"
      ]
     },
     "execution_count": 50,
     "metadata": {},
     "output_type": "execute_result"
    }
   ],
   "source": [
    "x_data.shape"
   ]
  },
  {
   "cell_type": "code",
   "execution_count": null,
   "id": "several-quarterly",
   "metadata": {},
   "outputs": [],
   "source": []
  }
 ],
 "metadata": {
  "kernelspec": {
   "display_name": "Python 3",
   "language": "python",
   "name": "python3"
  },
  "language_info": {
   "codemirror_mode": {
    "name": "ipython",
    "version": 3
   },
   "file_extension": ".py",
   "mimetype": "text/x-python",
   "name": "python",
   "nbconvert_exporter": "python",
   "pygments_lexer": "ipython3",
   "version": "3.8.8"
  }
 },
 "nbformat": 4,
 "nbformat_minor": 5
}
