{
 "cells": [
  {
   "cell_type": "code",
   "execution_count": 1,
   "id": "military-links",
   "metadata": {},
   "outputs": [],
   "source": [
    "import numpy as np\n",
    "import pandas as pd\n",
    "import datetime\n",
    "import matplotlib \n",
    "from matplotlib import pyplot as plt\n",
    "import gc\n",
    "import multiprocessing as mp\n",
    "from multiprocessing import Process, Queue\n",
    "queue = Queue()\n",
    "import random\n",
    "from matplotlib.pyplot import figure\n",
    "import math"
   ]
  },
  {
   "cell_type": "code",
   "execution_count": 2,
   "id": "dressed-remainder",
   "metadata": {},
   "outputs": [],
   "source": [
    "def read_df(file_title,house_nb):\n",
    "    try:\n",
    "        df=pd.read_table(file_title, sep=\",\" )\n",
    "        df.columns = [\"time\",\"consumption\"]\n",
    "        try:\n",
    "            df['time'] = pd.to_datetime(df['time'],unit='s')\n",
    "        except:\n",
    "            df['time'] = pd.to_datetime(df['time'])\n",
    "        df.index= df.time\n",
    "        df = df.sort_index()\n",
    "        df.reset_index(drop=True, inplace=True)\n",
    "        return (df,house_nb)\n",
    "    except:\n",
    "        return(None)"
   ]
  },
  {
   "cell_type": "code",
   "execution_count": 3,
   "id": "subject-treatment",
   "metadata": {},
   "outputs": [],
   "source": [
    "pool = mp.Pool(processes = 3)\n",
    "result=pool.starmap(read_df,((\"Refit_Resampled/fridge_freezer/house_\"+str(i+1)+\".csv\",i+1) for i in range(21)))\n",
    "Refit_fridge_freezers={}\n",
    "for i in range(len(result)):\n",
    "    if result[i]!=None:\n",
    "        Refit_fridge_freezers[result[i][1]]=result[i][0]"
   ]
  },
  {
   "cell_type": "code",
   "execution_count": 4,
   "id": "indie-clearing",
   "metadata": {},
   "outputs": [],
   "source": [
    "pool = mp.Pool(processes = 3)\n",
    "result=pool.starmap(read_df,((\"Refit_Resampled/fridge/house_\"+str(i+1)+\".csv\",i+1) for i in range(21)))\n",
    "Refit_fridges={}\n",
    "for i in range(len(result)):\n",
    "    if result[i]!=None:\n",
    "        Refit_fridges[result[i][1]]=result[i][0]"
   ]
  },
  {
   "cell_type": "code",
   "execution_count": 5,
   "id": "norwegian-exception",
   "metadata": {},
   "outputs": [],
   "source": [
    "def csv_to_activations(file_title):\n",
    "    df=pd.read_table(file_title, sep=\",\" )\n",
    "    df = df[['beginning', 'end','label']]\n",
    "    activation = [tuple(x[0:2]) for x in df.to_numpy()]\n",
    "    activation_type = [x[2] for x in df.to_numpy()]\n",
    "    return(activation,activation_type)"
   ]
  },
  {
   "cell_type": "code",
   "execution_count": 6,
   "id": "bridal-rolling",
   "metadata": {},
   "outputs": [],
   "source": [
    "Refit_fridge_freezer_activation_type={}\n",
    "Refit_fridge_freezer_activations={}\n",
    "for house_nb in range(22):\n",
    "    try:\n",
    "        Refit_fridge_freezer_activations[house_nb]=csv_to_activations(\"Refit_activations/labels/fridge_freezer_revertBack/house_\"+str(house_nb))[0]\n",
    "        Refit_fridge_freezer_activation_type[house_nb]=csv_to_activations(\"Refit_activations/labels/fridge_freezer_revertBack/house_\"+str(house_nb))[1]\n",
    "    except:\n",
    "        None"
   ]
  },
  {
   "cell_type": "code",
   "execution_count": 8,
   "id": "secure-candle",
   "metadata": {},
   "outputs": [],
   "source": [
    "Refit_fridge_activation_type={}\n",
    "Refit_fridge_activations={}\n",
    "for house_nb in range(22):\n",
    "    try:\n",
    "        Refit_fridge_activations[house_nb]=csv_to_activations(\"Refit_activations/labels/fridge_revertBack/house_\"+str(house_nb))[0]\n",
    "        Refit_fridge_activation_type[house_nb]=csv_to_activations(\"Refit_activations/labels/fridge_revertBack/house_\"+str(house_nb))[1]\n",
    "    except:\n",
    "        None"
   ]
  },
  {
   "cell_type": "code",
   "execution_count": 9,
   "id": "stainless-nursery",
   "metadata": {},
   "outputs": [],
   "source": [
    "def normal_anomolous(activations,activation_type,house_nb):\n",
    "    normal_activations=[]\n",
    "    anomolous_activations=[]\n",
    "    for i in range(len(activations)):\n",
    "        if activation_type[i]==0:\n",
    "            normal_activations.append(activations[i])\n",
    "        else:\n",
    "            anomolous_activations.append(activations[i])\n",
    "    return(normal_activations,anomolous_activations,house_nb)"
   ]
  },
  {
   "cell_type": "code",
   "execution_count": 10,
   "id": "parental-viewer",
   "metadata": {},
   "outputs": [],
   "source": [
    "Refit_fridge_freezer_normal_activations={}\n",
    "Refit_fridge_freezer_anomolous_activations={}\n",
    "for house_nb in Refit_fridge_freezer_activations.keys():\n",
    "    result=normal_anomolous(Refit_fridge_freezer_activations[house_nb],Refit_fridge_freezer_activation_type[house_nb],house_nb)\n",
    "    Refit_fridge_freezer_normal_activations[house_nb]=result[0]\n",
    "    Refit_fridge_freezer_anomolous_activations[house_nb]=result[1]"
   ]
  },
  {
   "cell_type": "code",
   "execution_count": 11,
   "id": "capital-niagara",
   "metadata": {},
   "outputs": [],
   "source": [
    "Refit_fridge_normal_activations={}\n",
    "Refit_fridge_anomolous_activations={}\n",
    "for house_nb in Refit_fridge_activations.keys():\n",
    "    result=normal_anomolous(Refit_fridge_activations[house_nb],Refit_fridge_activation_type[house_nb],house_nb)\n",
    "    Refit_fridge_normal_activations[house_nb]=result[0]\n",
    "    Refit_fridge_anomolous_activations[house_nb]=result[1]"
   ]
  },
  {
   "cell_type": "code",
   "execution_count": 12,
   "id": "hindu-diagnosis",
   "metadata": {},
   "outputs": [],
   "source": [
    "def oversampled_anomalies(normal_activations,anomolous_activations):\n",
    "    normal_nb=len(normal_activations)\n",
    "    abnormal_nb=len(anomolous_activations)\n",
    "    oversampling_nb=normal_nb-abnormal_nb\n",
    "    oversampled_list=anomolous_activations\n",
    "    for i in range(0,oversampling_nb):\n",
    "        oversampled_list.append(random.choice(anomolous_activations))\n",
    "    oversampled_list.sort()\n",
    "    return (oversampled_list)"
   ]
  },
  {
   "cell_type": "code",
   "execution_count": 13,
   "id": "royal-rainbow",
   "metadata": {},
   "outputs": [],
   "source": [
    "oversampled_anomalies_fridges={}\n",
    "oversampled_anomalies_fridge_freezers={}\n",
    "for house in range(0,22):\n",
    "    try:\n",
    "        oversampled_anomalies_fridge_freezers[house]=oversampled_anomalies(Refit_fridge_freezer_normal_activations[house],Refit_fridge_freezer_anomolous_activations[house])\n",
    "    except:\n",
    "        None\n",
    "for house in range(0,22):\n",
    "    try:        \n",
    "        oversampled_anomalies_fridges[house]=oversampled_anomalies(Refit_fridge_normal_activations[house],Refit_fridge_anomolous_activations[house])\n",
    "    except:\n",
    "            None"
   ]
  },
  {
   "cell_type": "code",
   "execution_count": 14,
   "id": "level-relative",
   "metadata": {},
   "outputs": [],
   "source": [
    "def get_new_activations(normal_activations,anomolous_activations):\n",
    "    new_activations=anomolous_activations\n",
    "    new_activations.extend(normal_activations)\n",
    "    new_activations.sort()\n",
    "    return(new_activations)"
   ]
  },
  {
   "cell_type": "code",
   "execution_count": 15,
   "id": "therapeutic-plymouth",
   "metadata": {},
   "outputs": [],
   "source": [
    "new_activations_fridges={}\n",
    "new_activations_fridge_freezers={}\n",
    "for house in range(0,22):\n",
    "    try:\n",
    "        new_activations_fridge_freezers[house]=get_new_activations(Refit_fridge_freezer_normal_activations[house],oversampled_anomalies_fridge_freezers[house])\n",
    "    except:\n",
    "        None\n",
    "for house in range(0,22):\n",
    "    try:        \n",
    "        new_activations_fridges[house]=get_new_activations(Refit_fridge_normal_activations[house],oversampled_anomalies_fridges[house])\n",
    "    except:\n",
    "            None"
   ]
  },
  {
   "cell_type": "code",
   "execution_count": 16,
   "id": "expensive-romania",
   "metadata": {},
   "outputs": [],
   "source": [
    "def get_activation_type(activations,normal_activations,house_nb):\n",
    "    activation_type=[]\n",
    "    for activation in activations:\n",
    "        if activation in normal_activations:\n",
    "            activation_type.append(0)\n",
    "        else:\n",
    "            activation_type.append(1)\n",
    "    return(activation_type,house_nb)"
   ]
  },
  {
   "cell_type": "code",
   "execution_count": 17,
   "id": "multiple-creation",
   "metadata": {},
   "outputs": [],
   "source": [
    "pool = mp.Pool(processes = 3)\n",
    "result=pool.starmap(get_activation_type,((new_activations_fridge_freezers[i],Refit_fridge_freezer_normal_activations[i],i) for i in new_activations_fridge_freezers.keys() ))\n",
    "Refit_fridge_freezer_activation_type={}\n",
    "for i in range(len(result)):\n",
    "        Refit_fridge_freezer_activation_type[result[i][1]]=result[i][0]"
   ]
  },
  {
   "cell_type": "code",
   "execution_count": 18,
   "id": "provincial-technology",
   "metadata": {},
   "outputs": [],
   "source": [
    "pool = mp.Pool(processes = 3)\n",
    "result=pool.starmap(get_activation_type,((new_activations_fridges[i],Refit_fridge_normal_activations[i],i) for i in new_activations_fridges.keys() ))\n",
    "Refit_fridge_activation_type={}\n",
    "for i in range(len(result)):\n",
    "        Refit_fridge_activation_type[result[i][1]]=result[i][0]"
   ]
  },
  {
   "cell_type": "code",
   "execution_count": 19,
   "id": "danish-michael",
   "metadata": {},
   "outputs": [],
   "source": [
    "def activations_to_csv(activations,activation_type,house_nb):\n",
    "    df=pd.DataFrame(activations, columns =['beginning','end'])\n",
    "    df1 = pd.DataFrame(activation_type, columns =['label'])\n",
    "    df_row = pd.concat([df, df1],axis=1)\n",
    "    df_row.to_csv(\"Refit_activations/labels/fridge_freezer_resampled/house_\"+str(house_nb),index=False)"
   ]
  },
  {
   "cell_type": "code",
   "execution_count": 20,
   "id": "numerous-catch",
   "metadata": {},
   "outputs": [],
   "source": [
    "for i in Refit_fridge_freezer_activation_type.keys():\n",
    "    activations_to_csv(new_activations_fridge_freezers[i],Refit_fridge_freezer_activation_type[i],i)"
   ]
  },
  {
   "cell_type": "code",
   "execution_count": 21,
   "id": "seven-finder",
   "metadata": {},
   "outputs": [],
   "source": [
    "def activations_to_csv(activations,activation_type,house_nb):\n",
    "    df=pd.DataFrame(activations, columns =['beginning','end'])\n",
    "    df1 = pd.DataFrame(activation_type, columns =['label'])\n",
    "    df_row = pd.concat([df, df1],axis=1)\n",
    "    df_row.to_csv(\"Refit_activations/labels/fridge_resampled/house_\"+str(house_nb),index=False)"
   ]
  },
  {
   "cell_type": "code",
   "execution_count": 22,
   "id": "upset-science",
   "metadata": {},
   "outputs": [],
   "source": [
    "for i in Refit_fridge_activation_type.keys():\n",
    "    activations_to_csv(new_activations_fridges[i],Refit_fridge_activation_type[i],i)"
   ]
  }
 ],
 "metadata": {
  "kernelspec": {
   "display_name": "Python 3",
   "language": "python",
   "name": "python3"
  },
  "language_info": {
   "codemirror_mode": {
    "name": "ipython",
    "version": 3
   },
   "file_extension": ".py",
   "mimetype": "text/x-python",
   "name": "python",
   "nbconvert_exporter": "python",
   "pygments_lexer": "ipython3",
   "version": "3.8.8"
  }
 },
 "nbformat": 4,
 "nbformat_minor": 5
}
